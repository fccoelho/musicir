{
 "cells": [
  {
   "cell_type": "markdown",
   "id": "98dc912b",
   "metadata": {
    "tags": []
   },
   "source": [
    "# Extracting Harmonies from Leadsheets\n",
    "\n",
    "Say you have one or a lot of leadsheets in musicXML format such as [Effendi's Realbook collection](https://effendi.me/jazz/repo/)"
   ]
  },
  {
   "cell_type": "code",
   "execution_count": 1,
   "id": "f679a588-4e7e-49e2-8523-883406c760fb",
   "metadata": {
    "ExecuteTime": {
     "end_time": "2023-10-11T18:51:04.381233009Z",
     "start_time": "2023-10-11T18:51:04.122890145Z"
    }
   },
   "outputs": [],
   "source": [
    "from music21 import chord, key, stream, converter, harmony\n",
    "from pprint import pprint\n",
    "import json"
   ]
  },
  {
   "cell_type": "code",
   "execution_count": 2,
   "id": "d2b99890-eeaf-4c7a-9c70-c51c79e7276f",
   "metadata": {
    "ExecuteTime": {
     "end_time": "2023-10-11T18:51:08.891007201Z",
     "start_time": "2023-10-11T18:51:08.226321300Z"
    }
   },
   "outputs": [
    {
     "data": {
      "image/png": "[encoded data removed]",
      "text/plain": "<IPython.core.display.Image object>"
     },
     "metadata": {
      "image/png": {
       "width": 162,
       "height": 55
      }
     },
     "output_type": "display_data"
    }
   ],
   "source": [
    "f = chord.Chord('F4 C5 A5')\n",
    "kf = key.Key('F')\n",
    "sf = stream.Measure([kf, f])\n",
    "sf.show()"
   ]
  },
  {
   "cell_type": "markdown",
   "id": "2bb7331f-b2ee-4f4d-8711-7ead9e720138",
   "metadata": {},
   "source": [
    "## Loading a Song\n",
    "Assuming you have already downloaded Effendi's Whole collection to your local machine you can use music21 to open them and get a lot of information out."
   ]
  },
  {
   "cell_type": "code",
   "execution_count": 12,
   "id": "6ee4de01-0cb6-4fe0-a136-fcd9a92a8b57",
   "metadata": {
    "ExecuteTime": {
     "end_time": "2023-10-11T19:09:44.279943335Z",
     "start_time": "2023-10-11T19:09:41.858050003Z"
    }
   },
   "outputs": [],
   "source": [
    "bm = converter.parse('/mnt/Datos/RealBooks/effendi.me/jazz/repo/II/Black Ice.xml')\n",
    "bm.show()"
   ]
  },
  {
   "cell_type": "code",
   "execution_count": null,
   "id": "8a83e590-a874-4f1d-b49e-1caef8d90034",
   "metadata": {
    "ExecuteTime": {
     "end_time": "2023-04-24T15:20:04.676509Z",
     "start_time": "2023-04-24T15:20:04.589021Z"
    }
   },
   "outputs": [
    {
     "data": {
      "text/plain": [
       "<music21.key.Key of d minor>"
      ]
     },
     "execution_count": null,
     "metadata": {},
     "output_type": "execute_result"
    }
   ],
   "source": [
    "bm.analyze('key')"
   ]
  },
  {
   "cell_type": "code",
   "execution_count": null,
   "id": "7b0610d3-cb6d-42db-9903-e1c01380a4de",
   "metadata": {
    "ExecuteTime": {
     "end_time": "2023-04-24T15:20:06.330329Z",
     "start_time": "2023-04-24T15:20:06.312931Z"
    }
   },
   "outputs": [
    {
     "data": {
      "text/plain": [
       "[('composer', 'Jeff Lorber\\nArr. 6EQUJ5'),\n",
       " ('copyright', '©2016 Finmusic/effendi.me 5/21/2016'),\n",
       " ('movementName', 'Black Ice')]"
      ]
     },
     "execution_count": null,
     "metadata": {},
     "output_type": "execute_result"
    }
   ],
   "source": [
    "bm.metadata.all()"
   ]
  },
  {
   "cell_type": "code",
   "execution_count": null,
   "id": "21ca6fd2",
   "metadata": {
    "ExecuteTime": {
     "end_time": "2023-04-24T15:20:07.580405Z",
     "start_time": "2023-04-24T15:20:07.542407Z"
    }
   },
   "outputs": [
    {
     "data": {
      "text/plain": [
       "'Black Ice'"
      ]
     },
     "execution_count": null,
     "metadata": {},
     "output_type": "execute_result"
    }
   ],
   "source": [
    "bm.metadata.title"
   ]
  },
  {
   "cell_type": "code",
   "execution_count": null,
   "id": "19ef85fb",
   "metadata": {
    "ExecuteTime": {
     "end_time": "2023-04-24T15:20:08.442613Z",
     "start_time": "2023-04-24T15:20:08.416031Z"
    }
   },
   "outputs": [
    {
     "data": {
      "text/plain": [
       "'Jeff Lorber\\nArr. 6EQUJ5'"
      ]
     },
     "execution_count": null,
     "metadata": {},
     "output_type": "execute_result"
    }
   ],
   "source": [
    "bm.metadata.composer"
   ]
  },
  {
   "cell_type": "code",
   "execution_count": null,
   "id": "4a4f484c-fc91-40bf-ae8d-f5f2aefcbcdc",
   "metadata": {
    "ExecuteTime": {
     "end_time": "2023-04-24T15:20:09.634155Z",
     "start_time": "2023-04-24T15:20:09.021601Z"
    }
   },
   "outputs": [
    {
     "name": "stderr",
     "output_type": "stream",
     "text": [
      "<<<<<<< local <modified: >\n"
     ]
    },
    {
     "name": "stderr",
     "output_type": "stream",
     "text": [
      "/home/fccoelho/Documentos/Projects_software/musicir/.venv/lib/python3.10/site-packages/music21/musicxml/m21ToXml.py:477: MusicXMLWarning: <music21.stream.Score 0x7f629d7409a0> is not well-formed; see isWellFormedNotation()\n",
      "  warnings.warn(f'{scOut} is not well-formed; see isWellFormedNotation()',\n"
     ]
    },
    {
     "name": "stderr",
     "output_type": "stream",
     "text": [
      "=======\n"
     ]
    },
    {
     "name": "stderr",
     "output_type": "stream",
     "text": [
      "/home/fccoelho/Documentos/Software_projects/musicir/venv/lib/python3.10/site-packages/music21/musicxml/m21ToXml.py:477: MusicXMLWarning: <music21.stream.Score 0x7ff0b0746ef0> is not well-formed; see isWellFormedNotation()\n",
      "  warnings.warn(f'{scOut} is not well-formed; see isWellFormedNotation()',\n"
     ]
    },
    {
     "name": "stderr",
     "output_type": "stream",
     "text": [
      ">>>>>>> remote <modified: >\n"
     ]
    },
    {
     "data": {
      "image/png": "[encoded data removed]",
      "text/plain": [
       "<IPython.core.display.Image object>"
      ]
     },
     "metadata": {
      "image/png": {
       "height": 155,
       "width": 748
      }
     },
     "output_type": "display_data"
    }
   ],
   "source": [
    "bm.getTimeSignatures().show()"
   ]
  },
  {
   "cell_type": "code",
   "execution_count": null,
   "id": "e174f4ee-0a50-4dc7-b0bb-9d6e13b9b083",
   "metadata": {
    "ExecuteTime": {
     "end_time": "2023-04-24T15:20:11.141970Z",
     "start_time": "2023-04-24T15:20:11.117446Z"
    }
   },
   "outputs": [],
   "source": [
    "m = bm.measure(1)"
   ]
  },
  {
   "cell_type": "code",
   "execution_count": null,
   "id": "b2c6ac42-8202-4f7c-863d-a3fdddf4f44c",
   "metadata": {
    "ExecuteTime": {
     "end_time": "2023-04-24T15:20:12.527411Z",
     "start_time": "2023-04-24T15:20:11.746755Z"
    }
   },
   "outputs": [
    {
     "data": {
      "image/png": "[encoded data removed]",
      "text/plain": [
       "<IPython.core.display.Image object>"
      ]
     },
     "metadata": {
      "image/png": {
       "height": 155,
       "width": 748
      }
     },
     "output_type": "display_data"
    }
   ],
   "source": [
    "m.show()"
   ]
  },
  {
   "cell_type": "markdown",
   "id": "f4e146d4-bf95-4bf6-8afe-1d42ce4d794f",
   "metadata": {},
   "source": [
    "However, if you want to extract the harmony, i.e. the sequence of chords, measure by measure. Music21 does not help much. That's when you will resort to MusicIR SongParser."
   ]
  },
  {
   "cell_type": "code",
   "execution_count": null,
   "id": "f97a4de6",
   "metadata": {
    "ExecuteTime": {
     "end_time": "2023-04-24T15:20:13.792067Z",
     "start_time": "2023-04-24T15:20:13.563487Z"
    }
   },
   "outputs": [],
   "source": [
    "from musicir.leadsheets.musicxml import ChordParser, SongParser, import_into_db"
   ]
  },
  {
   "cell_type": "code",
   "execution_count": null,
   "id": "25dab4f9",
   "metadata": {
    "ExecuteTime": {
     "end_time": "2023-04-24T15:20:16.201571Z",
     "start_time": "2023-04-24T15:20:16.182917Z"
    }
   },
   "outputs": [
    {
     "data": {
      "text/plain": [
       "62"
      ]
     },
     "execution_count": null,
     "metadata": {},
     "output_type": "execute_result"
    }
   ],
   "source": [
    "SP = SongParser(\"/mnt/Datos/RealBooks/effendi.me/jazz/repo/II/Black Ice.xml\")\n",
    "SP.number_of_measures"
   ]
  },
  {
   "cell_type": "code",
   "execution_count": null,
   "id": "d9148114",
   "metadata": {
    "ExecuteTime": {
     "end_time": "2023-04-24T15:20:17.570686Z",
     "start_time": "2023-04-24T15:20:17.524825Z"
    }
   },
   "outputs": [],
   "source": [
    "c= SP.get_measure_chords(1)[0]"
   ]
  },
  {
   "cell_type": "code",
   "execution_count": null,
   "id": "cf2c9783",
   "metadata": {
    "ExecuteTime": {
     "end_time": "2023-04-24T15:20:22.195756Z",
     "start_time": "2023-04-24T15:20:22.176185Z"
    }
   },
   "outputs": [
    {
     "data": {
      "text/plain": [
       "B - "
      ]
     },
     "execution_count": 14,
     "metadata": {},
     "output_type": "execute_result"
    }
   ],
   "source": [
    "Ch = ChordParser(c)\n",
    "Ch"
   ]
  },
  {
   "cell_type": "code",
   "execution_count": 15,
   "id": "522f2d0d",
   "metadata": {
    "ExecuteTime": {
     "end_time": "2023-04-24T15:21:02.962359Z",
     "start_time": "2023-04-24T15:21:02.933636Z"
    }
   },
   "outputs": [
    {
     "name": "stdout",
     "output_type": "stream",
     "text": [
      "[{'chords': [], 'measure': 0},\n",
      " {'chords': ['B - '], 'measure': 1},\n",
      " {'chords': ['E - ', 'F - '], 'measure': 2},\n",
      " {'chords': ['E - ', 'A - '], 'measure': 3},\n",
      " {'chords': ['E - ', 'F - '], 'measure': 4},\n",
      " {'chords': ['E - ', 'A - '], 'measure': 5},\n",
      " {'chords': ['A - '], 'measure': 6},\n",
      " {'chords': ['E - ', 'F - '], 'measure': 7},\n",
      " {'chords': ['E - ', 'A - '], 'measure': 8},\n",
      " {'chords': ['E - ', 'F - '], 'measure': 9},\n",
      " {'chords': ['E - ', 'A - '], 'measure': 10},\n",
      " {'chords': ['E - ', 'F - '], 'measure': 11},\n",
      " {'chords': ['E - ', 'A - '], 'measure': 12},\n",
      " {'chords': ['E - ', 'F - '], 'measure': 13},\n",
      " {'chords': ['E - ', 'A - '], 'measure': 14},\n",
      " {'chords': ['E - ', 'D - ', 'G - '], 'measure': 15},\n",
      " {'chords': ['C - ', 'B - '], 'measure': 16},\n",
      " {'chords': ['D - ', 'G - ', 'C - ', 'E♭ - '], 'measure': 17},\n",
      " {'chords': ['B♭ - ', 'A♭ - ', 'G - '], 'measure': 18},\n",
      " {'chords': ['F♯ - '], 'measure': 19},\n",
      " {'chords': ['C♯ - '], 'measure': 20},\n",
      " {'chords': ['F♯ - '], 'measure': 21},\n",
      " {'chords': ['C♯ - '], 'measure': 22},\n",
      " {'chords': ['F♯ - '], 'measure': 23},\n",
      " {'chords': ['C♯ - '], 'measure': 24},\n",
      " {'chords': ['F♯ - '], 'measure': 25},\n",
      " {'chords': ['G - ', 'B - '], 'measure': 26},\n",
      " {'chords': ['E - ', 'F - '], 'measure': 27},\n",
      " {'chords': ['E - ', 'A - '], 'measure': 28},\n",
      " {'chords': ['E - ', 'F - '], 'measure': 29},\n",
      " {'chords': ['E - ', 'A - '], 'measure': 30},\n",
      " {'chords': ['E - ', 'F - '], 'measure': 31},\n",
      " {'chords': ['E - ', 'A - '], 'measure': 32},\n",
      " {'chords': ['E - ', 'F - '], 'measure': 33},\n",
      " {'chords': ['E - ', 'A - '], 'measure': 34},\n",
      " {'chords': ['E - ', 'F - '], 'measure': 35},\n",
      " {'chords': ['E - ', 'A - '], 'measure': 36},\n",
      " {'chords': ['E - ', 'A - '], 'measure': 37},\n",
      " {'chords': ['E - ', 'D - ', 'G - '], 'measure': 38},\n",
      " {'chords': ['C - ', 'B - '], 'measure': 39},\n",
      " {'chords': ['D - ', 'G - ', 'C - ', 'E♭ - '], 'measure': 40},\n",
      " {'chords': ['B♭ - ', 'A♭ - ', 'G - '], 'measure': 41},\n",
      " {'chords': ['F♯ - '], 'measure': 42},\n",
      " {'chords': ['C♯ - '], 'measure': 43},\n",
      " {'chords': [], 'measure': 44},\n",
      " {'chords': [], 'measure': 45},\n",
      " {'chords': [], 'measure': 46},\n",
      " {'chords': [], 'measure': 47},\n",
      " {'chords': [], 'measure': 48},\n",
      " {'chords': [], 'measure': 49},\n",
      " {'chords': [], 'measure': 50},\n",
      " {'chords': [], 'measure': 51},\n",
      " {'chords': [], 'measure': 52},\n",
      " {'chords': [], 'measure': 53},\n",
      " {'chords': [], 'measure': 54},\n",
      " {'chords': [], 'measure': 55},\n",
      " {'chords': ['F♯ - '], 'measure': 56},\n",
      " {'chords': ['B - '], 'measure': 57},\n",
      " {'chords': ['F♯ - '], 'measure': 58},\n",
      " {'chords': ['C♯ - '], 'measure': 59},\n",
      " {'chords': ['F♯ - '], 'measure': 60},\n",
      " {'chords': ['G - ', 'B - '], 'measure': 61}]\n"
     ]
    }
   ],
   "source": [
    "pprint(json.loads(SP.chords_as_json()))"
   ]
  },
  {
   "cell_type": "code",
   "execution_count": 24,
   "id": "5b85151a",
   "metadata": {
    "ExecuteTime": {
     "end_time": "2023-04-24T15:28:47.892707Z",
     "start_time": "2023-04-24T15:28:47.835013Z"
    }
   },
   "outputs": [
    {
     "name": "stdout",
     "output_type": "stream",
     "text": [
      "Measure 1:  B - \n",
      "Measure 2: E - ,  F - \n",
      "Measure 3: E - ,  A - \n",
      "Measure 4: E - ,  F - \n",
      "Measure 5: E - ,  A - \n",
      "Measure 6:  A - \n",
      "Measure 7: E - ,  F - \n",
      "Measure 8: E - ,  A - \n",
      "Measure 9: E - ,  F - \n",
      "Measure 10: E - ,  A - \n",
      "Measure 11: E - ,  F - \n",
      "Measure 12: E - ,  A - \n",
      "Measure 13: E - ,  F - \n",
      "Measure 14: E - ,  A - \n",
      "Measure 15: E - , D - ,  G - \n",
      "Measure 16: C - ,  B - \n",
      "Measure 17: D - , G - , C - ,  E♭ - \n",
      "Measure 18: B♭ - , A♭ - ,  G - \n",
      "Measure 19:  F♯ - \n",
      "Measure 20:  C♯ - \n",
      "Measure 21:  F♯ - \n",
      "Measure 22:  C♯ - \n",
      "Measure 23:  F♯ - \n",
      "Measure 24:  C♯ - \n",
      "Measure 25:  F♯ - \n",
      "Measure 26: G - ,  B - \n",
      "Measure 27: E - ,  F - \n",
      "Measure 28: E - ,  A - \n",
      "Measure 29: E - ,  F - \n",
      "Measure 30: E - ,  A - \n",
      "Measure 31: E - ,  F - \n",
      "Measure 32: E - ,  A - \n",
      "Measure 33: E - ,  F - \n",
      "Measure 34: E - ,  A - \n",
      "Measure 35: E - ,  F - \n",
      "Measure 36: E - ,  A - \n",
      "Measure 37: E - ,  A - \n",
      "Measure 38: E - , D - ,  G - \n",
      "Measure 39: C - ,  B - \n",
      "Measure 40: D - , G - , C - ,  E♭ - \n",
      "Measure 41: B♭ - , A♭ - ,  G - \n",
      "Measure 42:  F♯ - \n",
      "Measure 43:  C♯ - \n",
      "Measure 56:  F♯ - \n",
      "Measure 57:  B - \n",
      "Measure 58:  F♯ - \n",
      "Measure 59:  C♯ - \n",
      "Measure 60:  F♯ - \n",
      "Measure 61: G - ,  B - \n"
     ]
    }
   ],
   "source": [
    "for m in range(SP.number_of_measures):\n",
    "    h = SP.get_measure_chords(m)\n",
    "    if h:\n",
    "        print(f\"Measure {m}: \", end='')\n",
    "    for i, c in enumerate(h):\n",
    "        if i < len(h) - 1:\n",
    "            print(ChordParser(c), end=', ')\n",
    "        else:\n",
    "            print(f\" {ChordParser(c)}\")\n"
   ]
  },
  {
   "cell_type": "code",
   "execution_count": 25,
   "id": "572b39ae-1be9-4ced-8cc9-d12c99cd1f6b",
   "metadata": {
    "ExecuteTime": {
     "end_time": "2023-04-24T15:33:12.330624Z",
     "start_time": "2023-04-24T15:33:12.324251Z"
    }
   },
   "outputs": [
    {
     "name": "stdout",
     "output_type": "stream",
     "text": [
      "<Element 'note' at 0x7f629aff0450>\n"
     ]
    }
   ],
   "source": [
    "SP.get_measure_melody(2)[0]"
   ]
  },
  {
   "cell_type": "code",
   "execution_count": 21,
   "id": "fb6954c8-918f-430f-9891-ddc4919514b0",
   "metadata": {},
   "outputs": [
    {
     "data": {
      "text/plain": [
       "'[{\"measure\": 0, \"notes\": [\"E\"]}, {\"measure\": 1, \"notes\": [\"G\", \"A\", \"A\\\\u266f\", \"B\", \"D\", \"E\", \"G\", \"D\", \"D\"]}, {\"measure\": 2, \"notes\": [\"Rest whole\"]}, {\"measure\": 3, \"notes\": [\"Rest whole\"]}, {\"measure\": 4, \"notes\": [\"Rest whole\"]}, {\"measure\": 5, \"notes\": [\"Rest whole\"]}, {\"measure\": 6, \"notes\": [\"Rest quarter\", \"Rest quarter\", \"Rest quarter\", \"E\", \"D\", \"B\\\\u266d\", \"A\"]}, {\"measure\": 7, \"notes\": [\"A\", \"B\\\\u266d\", \"A\", \"A\"]}, {\"measure\": 8, \"notes\": [\"Rest quarter\", \"Rest eighth\", \"B\", \"D\", \"D\\\\u266f\", \"F\", \"D\", \"E\", \"F\", \"G\", \"A\"]}, {\"measure\": 9, \"notes\": [\"B\", \"G\", \"F\", \"E\", \"A\", \"G\", \"Rest eighth\", \"Rest half\"]}, {\"measure\": 10, \"notes\": [\"Rest half\", \"Rest quarter\", \"G\", \"E\", \"B\\\\u266d\", \"A\"]}, {\"measure\": 11, \"notes\": [\"A\", \"B\\\\u266d\", \"A\", \"A\"]}, {\"measure\": 12, \"notes\": [\"Rest half\", \"D\", \"B\\\\u266d\", \"A\", \"G\", \"A\", \"G\", \"D\", \"E\"]}, {\"measure\": 13, \"notes\": [\"E\", \"G\", \"Rest quarter\"]}, {\"measure\": 14, \"notes\": [\"Rest half\", \"Rest quarter\", \"E\", \"D\", \"B\\\\u266d\", \"A\"]}, {\"measure\": 15, \"notes\": [\"Rest half\", \"Rest quarter\", \"B\", \"D\", \"B\"]}, {\"measure\": 16, \"notes\": [\"G\", \"A\", \"Rest 16th\", \"E\", \"G\", \"G\", \"G\", \"A\", \"C\", \"D\"]}, {\"measure\": 17, \"notes\": [\"D\", \"E\\\\u266d\", \"D\", \"C\", \"D\", \"Rest 16th\", \"A\", \"C\", \"C\", \"B\\\\u266d\", \"G\", \"D\"]}, {\"measure\": 18, \"notes\": [\"F\", \"B\\\\u266d\", \"Rest 16th\", \"C\", \"F\", \"F\", \"E\\\\u266d\"]}, {\"measure\": 19, \"notes\": [\"Rest whole\"]}, {\"measure\": 20, \"notes\": [\"Rest whole\"]}, {\"measure\": 21, \"notes\": [\"Rest whole\"]}, {\"measure\": 22, \"notes\": [\"Rest whole\"]}, {\"measure\": 23, \"notes\": [\"Rest whole\"]}, {\"measure\": 24, \"notes\": [\"Rest whole\"]}, {\"measure\": 25, \"notes\": [\"Rest half\", \"Rest eighth\", \"E\"]}, {\"measure\": 26, \"notes\": [\"G\\\\u266f\", \"A\", \"A\\\\u266f\", \"B\", \"D\", \"E\", \"G\", \"D\", \"D\"]}, {\"measure\": 27, \"notes\": [\"Rest whole\"]}, {\"measure\": 28, \"notes\": [\"Rest whole\"]}, {\"measure\": 29, \"notes\": [\"Rest whole\"]}, {\"measure\": 30, \"notes\": [\"Rest whole\"]}, {\"measure\": 31, \"notes\": [\"Rest whole\"]}, {\"measure\": 32, \"notes\": [\"Rest whole\"]}, {\"measure\": 33, \"notes\": [\"Rest whole\"]}, {\"measure\": 34, \"notes\": [\"Rest whole\"]}, {\"measure\": 35, \"notes\": [\"Rest whole\"]}, {\"measure\": 36, \"notes\": [\"Rest whole\"]}, {\"measure\": 37, \"notes\": [\"Rest whole\"]}, {\"measure\": 38, \"notes\": [\"Rest whole\"]}, {\"measure\": 39, \"notes\": [\"Rest whole\"]}, {\"measure\": 40, \"notes\": [\"Rest whole\"]}, {\"measure\": 41, \"notes\": [\"Rest whole\"]}, {\"measure\": 42, \"notes\": [\"Rest whole\"]}, {\"measure\": 43, \"notes\": [\"Rest whole\"]}, {\"measure\": 44, \"notes\": [\"Rest whole\"]}, {\"measure\": 45, \"notes\": [\"Rest whole\"]}, {\"measure\": 46, \"notes\": [\"Rest whole\"]}, {\"measure\": 47, \"notes\": [\"Rest whole\"]}, {\"measure\": 48, \"notes\": [\"Rest whole\"]}, {\"measure\": 49, \"notes\": [\"Rest whole\"]}, {\"measure\": 50, \"notes\": [\"Rest whole\"]}, {\"measure\": 51, \"notes\": [\"Rest whole\"]}, {\"measure\": 52, \"notes\": [\"Rest whole\"]}, {\"measure\": 53, \"notes\": [\"Rest whole\"]}, {\"measure\": 54, \"notes\": [\"Rest whole\"]}, {\"measure\": 55, \"notes\": [\"Rest whole\"]}, {\"measure\": 56, \"notes\": [\"Rest half\", \"Rest eighth\", \"E\"]}, {\"measure\": 57, \"notes\": [\"G\\\\u266f\", \"A\", \"A\\\\u266f\", \"B\", \"D\", \"E\", \"G\", \"D\", \"D\"]}, {\"measure\": 58, \"notes\": [\"Rest whole\"]}, {\"measure\": 59, \"notes\": [\"Rest whole\"]}, {\"measure\": 60, \"notes\": [\"Rest half\", \"Rest eighth\", \"E\"]}, {\"measure\": 61, \"notes\": [\"G\\\\u266f\", \"A\", \"A\\\\u266f\", \"B\", \"D\", \"E\", \"G\", \"D\", \"D\"]}]'"
      ]
     },
     "execution_count": 21,
     "metadata": {},
     "output_type": "execute_result"
    }
   ],
   "source": [
    "SP.melody_as_json()"
   ]
  },
  {
   "cell_type": "code",
   "execution_count": null,
   "id": "7e7ee386",
   "metadata": {
    "collapsed": false
   },
   "outputs": [],
   "source": [
    "Suppose you want to store the analyzed songs into a database for further analysys "
   ]
  },
  {
   "cell_type": "code",
   "execution_count": 32,
   "id": "1e156cc3-de34-41fa-9ac3-192256b81309",
   "metadata": {},
   "outputs": [],
   "source": [
    "from glob import glob"
   ]
  },
  {
   "cell_type": "code",
   "execution_count": 33,
   "id": "3fd56262-a148-4b81-9eb5-c6a1a8db268b",
   "metadata": {},
   "outputs": [],
   "source": [
    "songs = glob('/home/fccoelho/Downloads/effendi.me/jazz/repo/*.xml', recursive=True)"
   ]
  },
  {
   "cell_type": "code",
   "execution_count": 22,
   "id": "2b7d1663-0c31-4c4f-a06d-5e6b14d9070d",
   "metadata": {},
   "outputs": [],
   "source": [
    "import_into_db('/home/fccoelho/Downloads/effendi.me/jazz/repo/')"
   ]
  },
  {
   "cell_type": "code",
   "execution_count": null,
   "id": "a5748e7e-5e36-4a3b-89bc-51df1f27254f",
   "metadata": {},
   "outputs": [],
   "source": []
  }
 ],
 "metadata": {
  "hide_input": false,
  "kernelspec": {
   "display_name": "Python 3.10.7 ('venv': venv)",
   "language": "python",
   "name": "python3"
  },
  "language_info": {
   "codemirror_mode": {
    "name": "ipython",
    "version": 3
   },
   "file_extension": ".py",
   "mimetype": "text/x-python",
   "name": "python",
   "nbconvert_exporter": "python",
   "pygments_lexer": "ipython3",
   "version": "3.10.7"
  },
  "latex_envs": {
   "LaTeX_envs_menu_present": true,
   "autoclose": false,
   "autocomplete": true,
   "bibliofile": "biblio.bib",
   "cite_by": "apalike",
   "current_citInitial": 1,
   "eqLabelWithNumbers": true,
   "eqNumInitial": 1,
   "hotkeys": {
    "equation": "Ctrl-E",
    "itemize": "Ctrl-I"
   },
   "labels_anchors": false,
   "latex_user_defs": false,
   "report_style_numbering": false,
   "user_envs_cfg": false
  },
  "nbTranslate": {
   "displayLangs": [
    "*"
   ],
   "hotkey": "alt-t",
   "langInMainMenu": true,
   "sourceLang": "en",
   "targetLang": "fr",
   "useGoogleTranslate": true
  },
  "toc": {
   "base_numbering": 1,
   "nav_menu": {},
   "number_sections": true,
   "sideBar": true,
   "skip_h1_title": false,
   "title_cell": "Table of Contents",
   "title_sidebar": "Contents",
   "toc_cell": false,
   "toc_position": {},
   "toc_section_display": true,
   "toc_window_display": false
  },
  "varInspector": {
   "cols": {
    "lenName": 16,
    "lenType": 16,
    "lenVar": 40
   },
   "kernels_config": {
    "python": {
     "delete_cmd_postfix": "",
     "delete_cmd_prefix": "del ",
     "library": "var_list.py",
     "varRefreshCmd": "print(var_dic_list())"
    },
    "r": {
     "delete_cmd_postfix": ") ",
     "delete_cmd_prefix": "rm(",
     "library": "var_list.r",
     "varRefreshCmd": "cat(var_dic_list()) "
    }
   },
   "types_to_exclude": [
    "module",
    "function",
    "builtin_function_or_method",
    "instance",
    "_Feature"
   ],
   "window_display": false
  },
  "vscode": {
   "interpreter": {
    "hash": "2877850ec9f4e89110e03addf2182539ed1a79f44da74778506525cd6d43df03"
   }
  }
 },
 "nbformat": 4,
 "nbformat_minor": 5
}
