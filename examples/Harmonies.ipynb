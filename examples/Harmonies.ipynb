{
 "cells": [
  {
   "cell_type": "code",
   "execution_count": 1,
   "metadata": {
    "ExecuteTime": {
     "end_time": "2022-08-02T18:53:53.580300Z",
     "start_time": "2022-08-02T18:53:53.481838Z"
    },
    "pycharm": {
     "name": "#%%\n"
    }
   },
   "outputs": [],
   "source": [
    "import music21 as m21"
   ]
  },
  {
   "cell_type": "markdown",
   "metadata": {
    "pycharm": {
     "name": "#%% md\n"
    }
   },
   "source": [
    "# Exploring Harmonic structures\n",
    "Let's approach harmony from the bottom up starting with notes, defining scales, and then start building chords and chord progressions.\n",
    "\n",
    "To get started let's define our building blocks: the 12 notes."
   ]
  },
  {
   "cell_type": "code",
   "execution_count": 2,
   "metadata": {
    "ExecuteTime": {
     "end_time": "2022-08-02T18:53:57.122147Z",
     "start_time": "2022-08-02T18:53:57.118197Z"
    },
    "pycharm": {
     "name": "#%%\n"
    }
   },
   "outputs": [
    {
     "data": {
      "text/plain": [
       "12"
      ]
     },
     "execution_count": 2,
     "metadata": {},
     "output_type": "execute_result"
    }
   ],
   "source": [
    "notes = ('C','C#','D','D#','E','F','F#','G','G#','A','A#','B')\n",
    "len(notes)\n"
   ]
  },
  {
   "cell_type": "code",
   "execution_count": 3,
   "metadata": {
    "ExecuteTime": {
     "end_time": "2022-08-02T18:53:58.277215Z",
     "start_time": "2022-08-02T18:53:57.922624Z"
    },
    "pycharm": {
     "name": "#%%\n"
    }
   },
   "outputs": [
    {
     "data": {
      "image/png": "[encoded data removed]",
      "text/plain": [
       "<IPython.core.display.Image object>"
      ]
     },
     "metadata": {
      "image/png": {
       "height": 50,
       "width": 149
      }
     },
     "output_type": "display_data"
    }
   ],
   "source": [
    "m21.note.Note('C').show()\n"
   ]
  },
  {
   "cell_type": "markdown",
   "metadata": {
    "pycharm": {
     "name": "#%% md\n"
    }
   },
   "source": [
    "## Scales\n",
    "Let's use notes to build scales."
   ]
  },
  {
   "cell_type": "code",
   "execution_count": 4,
   "metadata": {
    "ExecuteTime": {
     "end_time": "2022-07-28T18:58:10.750551Z",
     "start_time": "2022-07-28T18:58:10.748348Z"
    },
    "pycharm": {
     "name": "#%%\n"
    }
   },
   "outputs": [],
   "source": [
    "chromatic = m21.stream.Stream([m21.note.Note(n) for n in notes])\n"
   ]
  },
  {
   "cell_type": "code",
   "execution_count": 5,
   "metadata": {
    "ExecuteTime": {
     "end_time": "2022-07-28T18:58:12.359809Z",
     "start_time": "2022-07-28T18:58:12.006193Z"
    },
    "pycharm": {
     "name": "#%%\n"
    }
   },
   "outputs": [
    {
     "data": {
      "image/png": "[encoded data removed]",
      "text/plain": [
       "<IPython.core.display.Image object>"
      ]
     },
     "metadata": {
      "image/png": {
       "height": 56,
       "width": 748
      }
     },
     "output_type": "display_data"
    }
   ],
   "source": [
    "chromatic.show()"
   ]
  },
  {
   "cell_type": "code",
   "execution_count": 8,
   "metadata": {
    "ExecuteTime": {
     "end_time": "2022-07-28T18:58:43.123023Z",
     "start_time": "2022-07-28T18:58:43.116265Z"
    },
    "pycharm": {
     "is_executing": true,
     "name": "#%%\n"
    }
   },
   "outputs": [
    {
     "data": {
      "text/html": [
       "\n",
       "                <div id='midiPlayerDiv516'></div>\n",
       "                <link rel=\"stylesheet\" href=\"//cuthbertLab.github.io/music21j/css/m21.css\"\n",
       "                    type=\"text/css\" />\n",
       "                \n",
       "                <script>\n",
       "                require.config({\n",
       "                    paths: {'music21': '//cuthbertLab.github.io/music21j/src/music21'}\n",
       "                });\n",
       "                require(['music21'], function() {\n",
       "                               mp = new music21.miditools.MidiPlayer();\n",
       "                               mp.addPlayer('#midiPlayerDiv516');\n",
       "                               mp.base64Load('data:audio/midi;base64,TVRoZAAAAAYAAQACBABNVHJrAAAAFAD/UQMHoSAA/1gEBAIYCIgA/y8ATVRyawAAAHoA/wMAAOAAQIgAkDxaiACAPAAAkD1aiACAPQAAkD5aiACAPgAAkD9aiACAPwAAkEBaiACAQAAAkEFaiACAQQAAkEJaiACAQgAAkENaiACAQwAAkERaiACARAAAkEVaiACARQAAkEZaiACARgAAkEdaiACARwCIAP8vAA==');\n",
       "                        });\n",
       "                </script>"
      ],
      "text/plain": [
       "<IPython.core.display.HTML object>"
      ]
     },
     "metadata": {},
     "output_type": "display_data"
    },
    {
     "data": {
      "text/plain": [
       "'chromatic.mid'"
      ]
     },
     "execution_count": 8,
     "metadata": {},
     "output_type": "execute_result"
    }
   ],
   "source": [
    "chromatic.write('midi', 'chromatic.mid')\n",
    "chromatic.show('midi')"
   ]
  },
  {
   "cell_type": "code",
   "execution_count": 12,
   "metadata": {
    "pycharm": {
     "name": "#%%\n"
    }
   },
   "outputs": [
    {
     "data": {
      "text/plain": [
       "music21.stream.base.Stream"
      ]
     },
     "execution_count": 12,
     "metadata": {},
     "output_type": "execute_result"
    }
   ],
   "source": [
    "type(chromatic)"
   ]
  },
  {
   "cell_type": "markdown",
   "metadata": {
    "pycharm": {
     "name": "#%% md\n"
    }
   },
   "source": [
    "## Scales and keys\n",
    "Scales are typically associated with keys. Let's look at the C major scale."
   ]
  },
  {
   "cell_type": "code",
   "execution_count": 23,
   "metadata": {
    "pycharm": {
     "name": "#%%\n"
    }
   },
   "outputs": [],
   "source": [
    "def scale_as_stream(scale):\n",
    "    return m21.stream.Stream([m21.note.Note(p) for p in scale.pitches])\n",
    "    "
   ]
  },
  {
   "cell_type": "code",
   "execution_count": 48,
   "metadata": {
    "ExecuteTime": {
     "end_time": "2022-07-28T19:23:01.989504Z",
     "start_time": "2022-07-28T19:23:01.638243Z"
    },
    "pycharm": {
     "name": "#%%\n"
    }
   },
   "outputs": [
    {
     "data": {
      "image/png": "[encoded data removed]",
      "text/plain": [
       "<IPython.core.display.Image object>"
      ]
     },
     "metadata": {
      "image/png": {
       "height": 50,
       "width": 369
      }
     },
     "output_type": "display_data"
    }
   ],
   "source": [
    "C = m21.key.Key('C')\n",
    "Csc = scale_as_stream(C)\n",
    "Csc.show()"
   ]
  },
  {
   "cell_type": "code",
   "execution_count": 49,
   "metadata": {
    "pycharm": {
     "name": "#%%\n"
    }
   },
   "outputs": [
    {
     "data": {
      "text/plain": [
       "'C-major.mid'"
      ]
     },
     "execution_count": 49,
     "metadata": {},
     "output_type": "execute_result"
    }
   ],
   "source": [
    "m21.stream.Stream([m21.note.Note(p) for p in C.pitches]).write('midi', 'C-major.mid')"
   ]
  },
  {
   "cell_type": "markdown",
   "metadata": {
    "pycharm": {
     "name": "#%% md\n"
    }
   },
   "source": [
    "The same notes define other scales depending on where the scale starts, for example if we start on A we get a minor scale."
   ]
  },
  {
   "cell_type": "code",
   "execution_count": 50,
   "metadata": {
    "ExecuteTime": {
     "end_time": "2022-07-28T19:30:20.131348Z",
     "start_time": "2022-07-28T19:30:19.612803Z"
    },
    "pycharm": {
     "name": "#%%\n"
    }
   },
   "outputs": [
    {
     "data": {
      "image/png": "[encoded data removed]",
      "text/plain": [
       "<IPython.core.display.Image object>"
      ]
     },
     "metadata": {
      "image/png": {
       "height": 60,
       "width": 382
      }
     },
     "output_type": "display_data"
    }
   ],
   "source": [
    "A = C.getScale('minor')\n",
    "A.show()"
   ]
  },
  {
   "cell_type": "code",
   "execution_count": 51,
   "metadata": {
    "ExecuteTime": {
     "end_time": "2022-07-28T19:36:47.508955Z",
     "start_time": "2022-07-28T19:36:47.506253Z"
    },
    "pycharm": {
     "name": "#%%\n"
    }
   },
   "outputs": [
    {
     "data": {
      "text/plain": [
       "'major'"
      ]
     },
     "execution_count": 51,
     "metadata": {},
     "output_type": "execute_result"
    }
   ],
   "source": [
    "C.mode"
   ]
  },
  {
   "cell_type": "code",
   "execution_count": 52,
   "metadata": {
    "pycharm": {
     "name": "#%%\n"
    }
   },
   "outputs": [
    {
     "data": {
      "image/png": "[encoded data removed]",
      "text/plain": [
       "<IPython.core.display.Image object>"
      ]
     },
     "metadata": {
      "image/png": {
       "height": 49,
       "width": 364
      }
     },
     "output_type": "display_data"
    }
   ],
   "source": [
    "Asc = scale_as_stream(A)\n",
    "Asc.write('midi','A-minor.mid')\n",
    "Asc.show()"
   ]
  },
  {
   "cell_type": "markdown",
   "metadata": {
    "pycharm": {
     "name": "#%% md\n"
    }
   },
   "source": [
    "We can also create a scale using classes from the scale package."
   ]
  },
  {
   "cell_type": "code",
   "execution_count": 55,
   "metadata": {
    "ExecuteTime": {
     "end_time": "2022-07-28T19:47:01.588626Z",
     "start_time": "2022-07-28T19:47:01.205186Z"
    },
    "pycharm": {
     "name": "#%%\n"
    }
   },
   "outputs": [
    {
     "data": {
      "image/png": "[encoded data removed]",
      "text/plain": [
       "<IPython.core.display.Image object>"
      ]
     },
     "metadata": {
      "image/png": {
       "height": 66,
       "width": 443
      }
     },
     "output_type": "display_data"
    }
   ],
   "source": [
    "D = m21.scale.MajorScale('d')\n",
    "D.show()"
   ]
  },
  {
   "cell_type": "code",
   "execution_count": 62,
   "metadata": {
    "ExecuteTime": {
     "end_time": "2022-07-28T20:24:16.827610Z",
     "start_time": "2022-07-28T20:24:16.506443Z"
    },
    "pycharm": {
     "name": "#%%\n"
    }
   },
   "outputs": [
    {
     "data": {
      "image/png": "[encoded data removed]",
      "text/plain": [
       "<IPython.core.display.Image object>"
      ]
     },
     "metadata": {
      "image/png": {
       "height": 70,
       "width": 416
      }
     },
     "output_type": "display_data"
    }
   ],
   "source": [
    "cml = m21.scale.MixolydianScale('c')\n",
    "cml.show()"
   ]
  },
  {
   "cell_type": "markdown",
   "metadata": {
    "pycharm": {
     "name": "#%% md\n"
    }
   },
   "source": [
    "These scales can also be converted into a stream and thus saves as `midi`."
   ]
  },
  {
   "cell_type": "code",
   "execution_count": 59,
   "metadata": {
    "ExecuteTime": {
     "end_time": "2022-07-28T19:56:54.623395Z",
     "start_time": "2022-07-28T19:56:54.615523Z"
    },
    "pycharm": {
     "name": "#%%\n"
    }
   },
   "outputs": [
    {
     "data": {
      "image/png": "[encoded data removed]",
      "text/plain": [
       "<IPython.core.display.Image object>"
      ]
     },
     "metadata": {
      "image/png": {
       "height": 50,
       "width": 391
      }
     },
     "output_type": "display_data"
    }
   ],
   "source": [
    "scale_as_stream(cml).show()"
   ]
  },
  {
   "cell_type": "code",
   "execution_count": 63,
   "metadata": {
    "ExecuteTime": {
     "end_time": "2022-07-28T20:46:02.179945Z",
     "start_time": "2022-07-28T20:46:02.177307Z"
    },
    "pycharm": {
     "name": "#%%\n"
    }
   },
   "outputs": [
    {
     "data": {
      "text/plain": [
       "'B-4'"
      ]
     },
     "execution_count": 63,
     "metadata": {},
     "output_type": "execute_result"
    }
   ],
   "source": [
    "rn = cml.romanNumeral(7)\n",
    "str(rn.root())"
   ]
  },
  {
   "cell_type": "code",
   "execution_count": 64,
   "metadata": {
    "ExecuteTime": {
     "end_time": "2022-07-28T20:40:58.573038Z",
     "start_time": "2022-07-28T20:40:58.253110Z"
    },
    "pycharm": {
     "name": "#%%\n"
    }
   },
   "outputs": [
    {
     "data": {
      "image/png": "[encoded data removed]",
      "text/plain": [
       "<IPython.core.display.Image object>"
      ]
     },
     "metadata": {
      "image/png": {
       "height": 65,
       "width": 748
      }
     },
     "output_type": "display_data"
    }
   ],
   "source": [
    "m21.scale.ChromaticScale('d-').show()"
   ]
  },
  {
   "cell_type": "code",
   "execution_count": null,
   "metadata": {
    "pycharm": {
     "name": "#%%\n"
    }
   },
   "outputs": [],
   "source": [
    "cl.pitches"
   ]
  },
  {
   "cell_type": "code",
   "execution_count": null,
   "metadata": {
    "pycharm": {
     "name": "#%%\n"
    }
   },
   "outputs": [],
   "source": [
    "cs = m21.scale.ChromaticScale('C')\n",
    "cs.pitches"
   ]
  },
  {
   "cell_type": "code",
   "execution_count": null,
   "metadata": {
    "pycharm": {
     "name": "#%%\n"
    }
   },
   "outputs": [],
   "source": [
    "for i in [0, 2, 4, 5, 7, 9, 10]:\n",
    "    print(cs.pitches[i].name)"
   ]
  },
  {
   "cell_type": "code",
   "execution_count": null,
   "metadata": {
    "pycharm": {
     "name": "#%%\n"
    }
   },
   "outputs": [],
   "source": [
    "hs = m21.scale.HarmonicMinorScale('E-')\n",
    "hs.pitches"
   ]
  },
  {
   "cell_type": "code",
   "execution_count": 61,
   "metadata": {
    "pycharm": {
     "name": "#%%\n"
    }
   },
   "outputs": [
    {
     "data": {
      "text/plain": [
       "[<music21.pitch.Pitch B4>,\n",
       " <music21.pitch.Pitch C#5>,\n",
       " <music21.pitch.Pitch D5>,\n",
       " <music21.pitch.Pitch E5>,\n",
       " <music21.pitch.Pitch F5>,\n",
       " <music21.pitch.Pitch G5>,\n",
       " <music21.pitch.Pitch A-5>,\n",
       " <music21.pitch.Pitch B-5>,\n",
       " <music21.pitch.Pitch C-6>]"
      ]
     },
     "execution_count": 61,
     "metadata": {},
     "output_type": "execute_result"
    }
   ],
   "source": [
    "Bo = m21.scale.OctatonicScale('B')\n",
    "Bo.pitches"
   ]
  },
  {
   "cell_type": "code",
   "execution_count": 70,
   "metadata": {
    "ExecuteTime": {
     "end_time": "2022-07-28T23:18:24.959457Z",
     "start_time": "2022-07-28T23:18:24.955348Z"
    },
    "pycharm": {
     "name": "#%%\n"
    }
   },
   "outputs": [
    {
     "data": {
      "text/plain": [
       "[<music21.pitch.Pitch C4>,\n",
       " <music21.pitch.Pitch C#4>,\n",
       " <music21.pitch.Pitch D4>,\n",
       " <music21.pitch.Pitch E-4>,\n",
       " <music21.pitch.Pitch E4>,\n",
       " <music21.pitch.Pitch F4>,\n",
       " <music21.pitch.Pitch F#4>,\n",
       " <music21.pitch.Pitch G4>,\n",
       " <music21.pitch.Pitch A-4>,\n",
       " <music21.pitch.Pitch A4>,\n",
       " <music21.pitch.Pitch B-4>,\n",
       " <music21.pitch.Pitch B4>,\n",
       " <music21.pitch.Pitch C5>]"
      ]
     },
     "execution_count": 70,
     "metadata": {},
     "output_type": "execute_result"
    }
   ],
   "source": [
    "cs = m21.scale.ChromaticScale('C')\n",
    "cs.pitches"
   ]
  },
  {
   "cell_type": "code",
   "execution_count": 71,
   "metadata": {
    "ExecuteTime": {
     "end_time": "2022-07-28T23:28:35.179360Z",
     "start_time": "2022-07-28T23:28:35.176805Z"
    },
    "pycharm": {
     "name": "#%%\n"
    }
   },
   "outputs": [
    {
     "name": "stdout",
     "output_type": "stream",
     "text": [
      "C\n",
      "D\n",
      "E\n",
      "F\n",
      "G\n",
      "A\n",
      "B-\n"
     ]
    }
   ],
   "source": [
    "for i in [0, 2, 4, 5, 7, 9, 10]:\n",
    "    print(cs.pitches[i].name)"
   ]
  },
  {
   "cell_type": "code",
   "execution_count": 72,
   "metadata": {
    "ExecuteTime": {
     "end_time": "2022-07-28T23:31:52.139640Z",
     "start_time": "2022-07-28T23:31:52.130165Z"
    },
    "pycharm": {
     "name": "#%%\n"
    }
   },
   "outputs": [
    {
     "data": {
      "text/plain": [
       "[<music21.pitch.Pitch E-4>,\n",
       " <music21.pitch.Pitch F4>,\n",
       " <music21.pitch.Pitch G-4>,\n",
       " <music21.pitch.Pitch A-4>,\n",
       " <music21.pitch.Pitch B-4>,\n",
       " <music21.pitch.Pitch C-5>,\n",
       " <music21.pitch.Pitch D5>,\n",
       " <music21.pitch.Pitch E-5>]"
      ]
     },
     "execution_count": 72,
     "metadata": {},
     "output_type": "execute_result"
    }
   ],
   "source": [
    "hs = m21.scale.HarmonicMinorScale('E-')\n",
    "hs.pitches"
   ]
  },
  {
   "cell_type": "code",
   "execution_count": null,
   "metadata": {
    "pycharm": {
     "name": "#%%\n"
    }
   },
   "outputs": [],
   "source": []
  }
 ],
 "metadata": {
  "hide_input": false,
  "kernelspec": {
   "display_name": "Python 3 (ipykernel)",
   "language": "python",
   "name": "python3"
  },
  "language_info": {
   "codemirror_mode": {
    "name": "ipython",
    "version": 3
   },
   "file_extension": ".py",
   "mimetype": "text/x-python",
   "name": "python",
   "nbconvert_exporter": "python",
   "pygments_lexer": "ipython3",
   "version": "3.10.4"
  },
  "latex_envs": {
   "LaTeX_envs_menu_present": true,
   "autoclose": false,
   "autocomplete": true,
   "bibliofile": "biblio.bib",
   "cite_by": "apalike",
   "current_citInitial": 1,
   "eqLabelWithNumbers": true,
   "eqNumInitial": 1,
   "hotkeys": {
    "equation": "Ctrl-E",
    "itemize": "Ctrl-I"
   },
   "labels_anchors": false,
   "latex_user_defs": false,
   "report_style_numbering": false,
   "user_envs_cfg": false
  },
  "nbTranslate": {
   "displayLangs": [
    "*"
   ],
   "hotkey": "alt-t",
   "langInMainMenu": true,
   "sourceLang": "en",
   "targetLang": "fr",
   "useGoogleTranslate": true
  },
  "toc": {
   "base_numbering": 1,
   "nav_menu": {},
   "number_sections": true,
   "sideBar": true,
   "skip_h1_title": false,
   "title_cell": "Table of Contents",
   "title_sidebar": "Contents",
   "toc_cell": false,
   "toc_position": {},
   "toc_section_display": true,
   "toc_window_display": false
  },
  "varInspector": {
   "cols": {
    "lenName": 16,
    "lenType": 16,
    "lenVar": 40
   },
   "kernels_config": {
    "python": {
     "delete_cmd_postfix": "",
     "delete_cmd_prefix": "del ",
     "library": "var_list.py",
     "varRefreshCmd": "print(var_dic_list())"
    },
    "r": {
     "delete_cmd_postfix": ") ",
     "delete_cmd_prefix": "rm(",
     "library": "var_list.r",
     "varRefreshCmd": "cat(var_dic_list()) "
    }
   },
   "types_to_exclude": [
    "module",
    "function",
    "builtin_function_or_method",
    "instance",
    "_Feature"
   ],
   "window_display": false
  }
 },
 "nbformat": 4,
 "nbformat_minor": 4
}