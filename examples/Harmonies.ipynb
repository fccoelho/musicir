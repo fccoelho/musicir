{
 "cells": [
  {
   "cell_type": "code",
   "execution_count": 1,
   "metadata": {
    "pycharm": {
     "name": "#%%\n"
    },
    "ExecuteTime": {
     "end_time": "2023-10-11T18:47:01.920447154Z",
     "start_time": "2023-10-11T18:47:01.608841064Z"
    }
   },
   "outputs": [],
   "source": [
    "import music21 as m21"
   ]
  },
  {
   "cell_type": "markdown",
   "metadata": {
    "pycharm": {
     "name": "#%% md\n"
    }
   },
   "source": [
    "# Exploring Harmonic structures\n",
    "Let's approach harmony from the bottom up starting with notes, defining scales, and then start building chords and chord progressions.\n",
    "\n",
    "To get started let's define our building blocks: the 12 notes."
   ]
  },
  {
   "cell_type": "code",
   "execution_count": 2,
   "metadata": {
    "pycharm": {
     "name": "#%%\n"
    },
    "ExecuteTime": {
     "end_time": "2023-10-11T18:47:06.394156465Z",
     "start_time": "2023-10-11T18:47:06.368847534Z"
    }
   },
   "outputs": [
    {
     "data": {
      "text/plain": "12"
     },
     "execution_count": 2,
     "metadata": {},
     "output_type": "execute_result"
    }
   ],
   "source": [
    "notes = ('C','C#','D','D#','E','F','F#','G','G#','A','A#','B')\n",
    "len(notes)\n"
   ]
  },
  {
   "cell_type": "code",
   "execution_count": 3,
   "metadata": {
    "pycharm": {
     "name": "#%%\n"
    },
    "ExecuteTime": {
     "end_time": "2023-10-11T18:47:08.927716411Z",
     "start_time": "2023-10-11T18:47:08.199830859Z"
    }
   },
   "outputs": [
    {
     "data": {
      "image/png": "[encoded data removed]",
      "text/plain": "<IPython.core.display.Image object>"
     },
     "metadata": {
      "image/png": {
       "width": 149,
       "height": 50
      }
     },
     "output_type": "display_data"
    }
   ],
   "source": [
    "m21.note.Note('C').show()\n"
   ]
  },
  {
   "cell_type": "markdown",
   "metadata": {
    "pycharm": {
     "name": "#%% md\n"
    }
   },
   "source": [
    "## Scales\n",
    "Let's use notes to build scales."
   ]
  },
  {
   "cell_type": "code",
   "execution_count": 4,
   "metadata": {
    "pycharm": {
     "name": "#%%\n"
    },
    "ExecuteTime": {
     "end_time": "2023-10-11T18:49:22.437479658Z",
     "start_time": "2023-10-11T18:49:22.421718984Z"
    }
   },
   "outputs": [],
   "source": [
    "chromatic = m21.stream.Stream([m21.note.Note(n) for n in notes])\n"
   ]
  },
  {
   "cell_type": "code",
   "execution_count": 5,
   "metadata": {
    "pycharm": {
     "name": "#%%\n"
    },
    "ExecuteTime": {
     "end_time": "2023-10-11T18:49:24.430572315Z",
     "start_time": "2023-10-11T18:49:23.759608333Z"
    }
   },
   "outputs": [
    {
     "data": {
      "image/png": "[encoded data removed]",
      "text/plain": "<IPython.core.display.Image object>"
     },
     "metadata": {
      "image/png": {
       "width": 748,
       "height": 56
      }
     },
     "output_type": "display_data"
    }
   ],
   "source": [
    "chromatic.show()"
   ]
  },
  {
   "cell_type": "code",
   "execution_count": 6,
   "metadata": {
    "pycharm": {
     "is_executing": true,
     "name": "#%%\n"
    },
    "ExecuteTime": {
     "end_time": "2023-10-11T18:49:26.373500493Z",
     "start_time": "2023-10-11T18:49:26.327329070Z"
    }
   },
   "outputs": [
    {
     "data": {
      "text/plain": "<IPython.core.display.HTML object>",
      "text/html": "\n        <div id=\"midiPlayerDiv285\"></div>\n        <link rel=\"stylesheet\" href=\"https://cuthbertLab.github.io/music21j/css/m21.css\">\n        \n        <script\n        src=\"https://cdnjs.cloudflare.com/ajax/libs/require.js/2.3.6/require.min.js\"\n        ></script>\n    \n        <script>\n        function midiPlayerDiv285_play() {\n            const rq = require.config({\n                paths: {\n                    'music21': 'https://cuthbertLab.github.io/music21j/releases/music21.debug',\n                }\n            });\n            rq(['music21'], function(music21) {\n                mp = new music21.miditools.MidiPlayer();\n                mp.addPlayer(\"#midiPlayerDiv285\");\n                mp.base64Load(\"data:audio/midi;base64,TVRoZAAAAAYAAQACJ2BNVHJrAAAAFAD/UQMHoSAA/1gEBAIYCM5g/y8ATVRyawAAAHoA/wMAAOAAQM5gkDxazmCAPAAAkD1azmCAPQAAkD5azmCAPgAAkD9azmCAPwAAkEBazmCAQAAAkEFazmCAQQAAkEJazmCAQgAAkENazmCAQwAAkERazmCARAAAkEVazmCARQAAkEZazmCARgAAkEdazmCARwDOYP8vAA==\");\n            });\n        }\n        if (typeof require === 'undefined') {\n            setTimeout(midiPlayerDiv285_play, 2000);\n        } else {\n            midiPlayerDiv285_play();\n        }\n        </script>"
     },
     "metadata": {},
     "output_type": "display_data"
    }
   ],
   "source": [
    "chromatic.write('midi', 'chromatic.mid')\n",
    "chromatic.show('midi')"
   ]
  },
  {
   "cell_type": "code",
   "execution_count": 7,
   "metadata": {
    "pycharm": {
     "name": "#%%\n"
    },
    "ExecuteTime": {
     "end_time": "2023-10-11T18:49:28.963209916Z",
     "start_time": "2023-10-11T18:49:28.927958035Z"
    }
   },
   "outputs": [
    {
     "data": {
      "text/plain": "music21.stream.base.Stream"
     },
     "execution_count": 7,
     "metadata": {},
     "output_type": "execute_result"
    }
   ],
   "source": [
    "type(chromatic)"
   ]
  },
  {
   "cell_type": "markdown",
   "metadata": {
    "pycharm": {
     "name": "#%% md\n"
    }
   },
   "source": [
    "## Scales and keys\n",
    "Scales are typically associated with keys. Let's look at the C major scale."
   ]
  },
  {
   "cell_type": "code",
   "execution_count": 8,
   "metadata": {
    "pycharm": {
     "name": "#%%\n"
    },
    "ExecuteTime": {
     "end_time": "2023-10-11T18:49:31.935516245Z",
     "start_time": "2023-10-11T18:49:31.892669775Z"
    }
   },
   "outputs": [],
   "source": [
    "def scale_as_stream(scale):\n",
    "    return m21.stream.Stream([m21.note.Note(p) for p in scale.pitches])\n",
    "    "
   ]
  },
  {
   "cell_type": "code",
   "execution_count": 9,
   "metadata": {
    "pycharm": {
     "name": "#%%\n"
    },
    "ExecuteTime": {
     "end_time": "2023-10-11T18:49:34.710391326Z",
     "start_time": "2023-10-11T18:49:34.019671325Z"
    }
   },
   "outputs": [
    {
     "data": {
      "image/png": "[encoded data removed]",
      "text/plain": "<IPython.core.display.Image object>"
     },
     "metadata": {
      "image/png": {
       "width": 369,
       "height": 50
      }
     },
     "output_type": "display_data"
    }
   ],
   "source": [
    "C = m21.key.Key('C')\n",
    "Csc = scale_as_stream(C)\n",
    "Csc.show()"
   ]
  },
  {
   "cell_type": "code",
   "execution_count": 10,
   "metadata": {
    "pycharm": {
     "name": "#%%\n"
    },
    "ExecuteTime": {
     "end_time": "2023-10-11T18:49:36.207336225Z",
     "start_time": "2023-10-11T18:49:36.151024286Z"
    }
   },
   "outputs": [
    {
     "data": {
      "text/plain": "'C-major.mid'"
     },
     "execution_count": 10,
     "metadata": {},
     "output_type": "execute_result"
    }
   ],
   "source": [
    "m21.stream.Stream([m21.note.Note(p) for p in C.pitches]).write('midi', 'C-major.mid')"
   ]
  },
  {
   "cell_type": "markdown",
   "metadata": {
    "pycharm": {
     "name": "#%% md\n"
    }
   },
   "source": [
    "The same notes define other scales depending on where the scale starts, for example if we start on A we get a minor scale."
   ]
  },
  {
   "cell_type": "code",
   "execution_count": 11,
   "metadata": {
    "pycharm": {
     "name": "#%%\n"
    },
    "ExecuteTime": {
     "end_time": "2023-10-11T18:49:38.813794167Z",
     "start_time": "2023-10-11T18:49:38.165178759Z"
    }
   },
   "outputs": [
    {
     "data": {
      "image/png": "[encoded data removed]",
      "text/plain": "<IPython.core.display.Image object>"
     },
     "metadata": {
      "image/png": {
       "width": 382,
       "height": 60
      }
     },
     "output_type": "display_data"
    }
   ],
   "source": [
    "A = C.getScale('minor')\n",
    "A.show()"
   ]
  },
  {
   "cell_type": "code",
   "execution_count": 12,
   "metadata": {
    "pycharm": {
     "name": "#%%\n"
    },
    "ExecuteTime": {
     "end_time": "2023-10-11T18:49:39.214596741Z",
     "start_time": "2023-10-11T18:49:39.198518020Z"
    }
   },
   "outputs": [
    {
     "data": {
      "text/plain": "'major'"
     },
     "execution_count": 12,
     "metadata": {},
     "output_type": "execute_result"
    }
   ],
   "source": [
    "C.mode"
   ]
  },
  {
   "cell_type": "code",
   "execution_count": 13,
   "metadata": {
    "pycharm": {
     "name": "#%%\n"
    },
    "ExecuteTime": {
     "end_time": "2023-10-11T18:49:43.322731298Z",
     "start_time": "2023-10-11T18:49:41.666929225Z"
    }
   },
   "outputs": [
    {
     "data": {
      "image/png": "[encoded data removed]",
      "text/plain": "<IPython.core.display.Image object>"
     },
     "metadata": {
      "image/png": {
       "width": 364,
       "height": 49
      }
     },
     "output_type": "display_data"
    }
   ],
   "source": [
    "Asc = scale_as_stream(A)\n",
    "Asc.write('midi','A-minor.mid')\n",
    "Asc.show()"
   ]
  },
  {
   "cell_type": "markdown",
   "metadata": {
    "pycharm": {
     "name": "#%% md\n"
    }
   },
   "source": [
    "We can also create a scale using classes from the scale package."
   ]
  },
  {
   "cell_type": "code",
   "execution_count": 14,
   "metadata": {
    "pycharm": {
     "name": "#%%\n"
    },
    "ExecuteTime": {
     "end_time": "2023-10-11T18:49:44.915713917Z",
     "start_time": "2023-10-11T18:49:44.250231163Z"
    }
   },
   "outputs": [
    {
     "data": {
      "image/png": "[encoded data removed]",
      "text/plain": "<IPython.core.display.Image object>"
     },
     "metadata": {
      "image/png": {
       "width": 443,
       "height": 66
      }
     },
     "output_type": "display_data"
    }
   ],
   "source": [
    "D = m21.scale.MajorScale('d')\n",
    "D.show()"
   ]
  },
  {
   "cell_type": "code",
   "execution_count": 15,
   "metadata": {
    "pycharm": {
     "name": "#%%\n"
    },
    "ExecuteTime": {
     "end_time": "2023-10-11T18:49:46.828266706Z",
     "start_time": "2023-10-11T18:49:45.969865875Z"
    }
   },
   "outputs": [
    {
     "data": {
      "image/png": "[encoded data removed]",
      "text/plain": "<IPython.core.display.Image object>"
     },
     "metadata": {
      "image/png": {
       "width": 416,
       "height": 70
      }
     },
     "output_type": "display_data"
    }
   ],
   "source": [
    "cml = m21.scale.MixolydianScale('c')\n",
    "cml.show()"
   ]
  },
  {
   "cell_type": "markdown",
   "metadata": {
    "pycharm": {
     "name": "#%% md\n"
    }
   },
   "source": [
    "These scales can also be converted into a stream and thus saves as `midi`."
   ]
  },
  {
   "cell_type": "code",
   "execution_count": 16,
   "metadata": {
    "collapsed": false,
    "pycharm": {
     "name": "#%%\n"
    },
    "ExecuteTime": {
     "end_time": "2023-10-11T18:49:50.645893545Z",
     "start_time": "2023-10-11T18:49:50.628574491Z"
    }
   },
   "outputs": [
    {
     "data": {
      "text/plain": "<IPython.core.display.HTML object>",
      "text/html": "\n        <div id=\"midiPlayerDiv718\"></div>\n        <link rel=\"stylesheet\" href=\"https://cuthbertLab.github.io/music21j/css/m21.css\">\n        \n        <script\n        src=\"https://cdnjs.cloudflare.com/ajax/libs/require.js/2.3.6/require.min.js\"\n        ></script>\n    \n        <script>\n        function midiPlayerDiv718_play() {\n            const rq = require.config({\n                paths: {\n                    'music21': 'https://cuthbertLab.github.io/music21j/releases/music21.debug',\n                }\n            });\n            rq(['music21'], function(music21) {\n                mp = new music21.miditools.MidiPlayer();\n                mp.addPlayer(\"#midiPlayerDiv718\");\n                mp.base64Load(\"data:audio/midi;base64,TVRoZAAAAAYAAQACJ2BNVHJrAAAAFAD/UQMHoSAA/1gEBAIYCM5g/y8ATVRyawAAAFYA/wMAAOAAQM5gkDxazmCAPAAAkD5azmCAPgAAkEBazmCAQAAAkEFazmCAQQAAkENazmCAQwAAkEVazmCARQAAkEZazmCARgAAkEhazmCASADOYP8vAA==\");\n            });\n        }\n        if (typeof require === 'undefined') {\n            setTimeout(midiPlayerDiv718_play, 2000);\n        } else {\n            midiPlayerDiv718_play();\n        }\n        </script>"
     },
     "metadata": {},
     "output_type": "display_data"
    }
   ],
   "source": [
    "scale_as_stream(cml).show('midi')"
   ]
  },
  {
   "cell_type": "code",
   "execution_count": 17,
   "metadata": {
    "collapsed": false,
    "pycharm": {
     "name": "#%%\n"
    },
    "ExecuteTime": {
     "end_time": "2023-10-11T18:50:11.973974243Z",
     "start_time": "2023-10-11T18:50:11.961785514Z"
    }
   },
   "outputs": [
    {
     "data": {
      "text/plain": "'B-4'"
     },
     "execution_count": 17,
     "metadata": {},
     "output_type": "execute_result"
    }
   ],
   "source": [
    "rn = cml.romanNumeral(7)\n",
    "str(rn.root())"
   ]
  },
  {
   "cell_type": "code",
   "execution_count": 18,
   "metadata": {
    "collapsed": false,
    "pycharm": {
     "name": "#%%\n"
    },
    "ExecuteTime": {
     "end_time": "2023-10-11T18:50:14.193810555Z",
     "start_time": "2023-10-11T18:50:13.411127808Z"
    }
   },
   "outputs": [
    {
     "data": {
      "image/png": "[encoded data removed]",
      "text/plain": "<IPython.core.display.Image object>"
     },
     "metadata": {
      "image/png": {
       "width": 748,
       "height": 65
      }
     },
     "output_type": "display_data"
    }
   ],
   "source": [
    "m21.scale.ChromaticScale('d-').show()"
   ]
  },
  {
   "cell_type": "code",
   "execution_count": 19,
   "metadata": {
    "collapsed": false,
    "pycharm": {
     "name": "#%%\n"
    },
    "ExecuteTime": {
     "end_time": "2023-10-11T18:50:19.279586699Z",
     "start_time": "2023-10-11T18:50:19.261556993Z"
    }
   },
   "outputs": [
    {
     "data": {
      "text/plain": "[<music21.pitch.Pitch C4>,\n <music21.pitch.Pitch C#4>,\n <music21.pitch.Pitch D4>,\n <music21.pitch.Pitch E-4>,\n <music21.pitch.Pitch E4>,\n <music21.pitch.Pitch F4>,\n <music21.pitch.Pitch F#4>,\n <music21.pitch.Pitch G4>,\n <music21.pitch.Pitch A-4>,\n <music21.pitch.Pitch A4>,\n <music21.pitch.Pitch B-4>,\n <music21.pitch.Pitch B4>,\n <music21.pitch.Pitch C5>]"
     },
     "execution_count": 19,
     "metadata": {},
     "output_type": "execute_result"
    }
   ],
   "source": [
    "cs = m21.scale.ChromaticScale('C')\n",
    "cs.pitches"
   ]
  },
  {
   "cell_type": "code",
   "execution_count": 20,
   "metadata": {
    "collapsed": false,
    "pycharm": {
     "name": "#%%\n"
    },
    "ExecuteTime": {
     "end_time": "2023-10-11T18:50:37.037494899Z",
     "start_time": "2023-10-11T18:50:36.993410724Z"
    }
   },
   "outputs": [
    {
     "name": "stdout",
     "output_type": "stream",
     "text": [
      "C\n",
      "D\n",
      "E\n",
      "F\n",
      "G\n",
      "A\n",
      "B-\n"
     ]
    }
   ],
   "source": [
    "for i in [0, 2, 4, 5, 7, 9, 10]:\n",
    "    print(cs.pitches[i].name)"
   ]
  },
  {
   "cell_type": "code",
   "execution_count": null,
   "metadata": {
    "collapsed": false,
    "pycharm": {
     "name": "#%%\n"
    }
   },
   "outputs": [],
   "source": [
    "hs = m21.scale.HarmonicMinorScale('E-')\n",
    "hs.pitches"
   ]
  },
  {
   "cell_type": "code",
   "execution_count": null,
   "metadata": {
    "collapsed": false,
    "pycharm": {
     "name": "#%%\n"
    }
   },
   "outputs": [],
   "source": [
    "Bo = m21.scale.OctatonicScale('B')\n",
    "Bo.pitches"
   ]
  },
  {
   "cell_type": "code",
   "execution_count": null,
   "metadata": {
    "collapsed": false,
    "pycharm": {
     "name": "#%%\n"
    }
   },
   "outputs": [],
   "source": [
    "cs = m21.scale.ChromaticScale('C')\n",
    "cs.pitches"
   ]
  },
  {
   "cell_type": "code",
   "execution_count": null,
   "metadata": {
    "collapsed": false,
    "pycharm": {
     "name": "#%%\n"
    }
   },
   "outputs": [],
   "source": [
    "for i in [0, 2, 4, 5, 7, 9, 10]:\n",
    "    print(cs.pitches[i].name)"
   ]
  },
  {
   "cell_type": "code",
   "execution_count": null,
   "metadata": {
    "collapsed": false,
    "pycharm": {
     "name": "#%%\n"
    }
   },
   "outputs": [],
   "source": [
    "hs = m21.scale.HarmonicMinorScale('E-')\n",
    "hs.pitches"
   ]
  },
  {
   "cell_type": "markdown",
   "metadata": {
    "collapsed": false,
    "pycharm": {
     "name": "#%% md\n"
    }
   },
   "source": [
    "## Using MusicIR Scale class\n",
    "MusicIR Scale class provides  different API, that make is easier to generate new scales and analyse them."
   ]
  },
  {
   "cell_type": "code",
   "execution_count": 3,
   "metadata": {
    "collapsed": false,
    "pycharm": {
     "name": "#%%\n"
    }
   },
   "outputs": [],
   "source": [
    "from musicir.harmony import scale\n",
    "from musicir.harmony.scale import Scale"
   ]
  },
  {
   "cell_type": "code",
   "execution_count": 4,
   "metadata": {
    "collapsed": false,
    "pycharm": {
     "name": "#%%\n"
    }
   },
   "outputs": [
    {
     "data": {
      "text/plain": [
       "F# RagAsawari"
      ]
     },
     "execution_count": 4,
     "metadata": {},
     "output_type": "execute_result"
    }
   ],
   "source": [
    "s = Scale(\"F\", acc=\"#\", mode=\"RagAsawari\")\n",
    "s"
   ]
  },
  {
   "cell_type": "code",
   "execution_count": 5,
   "metadata": {
    "collapsed": false,
    "pycharm": {
     "name": "#%%\n"
    }
   },
   "outputs": [
    {
     "data": {
      "image/png": "[encoded data removed]",
      "text/plain": [
       "<IPython.core.display.Image object>"
      ]
     },
     "metadata": {
      "image/png": {
       "height": 56,
       "width": 422
      }
     },
     "output_type": "display_data"
    }
   ],
   "source": [
    "s.stream.show()"
   ]
  },
  {
   "cell_type": "markdown",
   "metadata": {
    "collapsed": false,
    "pycharm": {
     "name": "#%% md\n"
    }
   },
   "source": [
    "MusicIR supports more scale types than Music21"
   ]
  },
  {
   "cell_type": "code",
   "execution_count": 6,
   "metadata": {
    "collapsed": false,
    "pycharm": {
     "name": "#%%\n"
    }
   },
   "outputs": [
    {
     "data": {
      "text/plain": [
       "G Chinese 6 Pentatonic"
      ]
     },
     "execution_count": 6,
     "metadata": {},
     "output_type": "execute_result"
    }
   ],
   "source": [
    "c6 = Scale(\"G\", acc=\"\", mode=\"Chinese 6 Pentatonic\")\n",
    "c6"
   ]
  },
  {
   "cell_type": "code",
   "execution_count": 7,
   "metadata": {
    "collapsed": false,
    "pycharm": {
     "name": "#%%\n"
    }
   },
   "outputs": [
    {
     "data": {
      "image/png": "[encoded data removed]",
      "text/plain": [
       "<IPython.core.display.Image object>"
      ]
     },
     "metadata": {
      "image/png": {
       "height": 56,
       "width": 422
      }
     },
     "output_type": "display_data"
    }
   ],
   "source": [
    "s.stream.show()"
   ]
  },
  {
   "cell_type": "markdown",
   "metadata": {
    "pycharm": {
     "name": "#%% md\n"
    }
   },
   "source": [
    "MusicIR supports more scale types than Music21"
   ]
  },
  {
   "cell_type": "code",
   "execution_count": 8,
   "metadata": {
    "pycharm": {
     "name": "#%%\n"
    }
   },
   "outputs": [
    {
     "data": {
      "text/plain": [
       "G Chinese 6 Pentatonic"
      ]
     },
     "execution_count": 8,
     "metadata": {},
     "output_type": "execute_result"
    }
   ],
   "source": [
    "c6 = Scale(\"G\", acc=\"\", mode=\"Chinese 6 Pentatonic\")\n",
    "c6"
   ]
  },
  {
   "cell_type": "code",
   "execution_count": 9,
   "metadata": {},
   "outputs": [
    {
     "data": {
      "text/plain": [
       "['G', 'B', 'C#', 'D', 'F#']"
      ]
     },
     "execution_count": 9,
     "metadata": {},
     "output_type": "execute_result"
    }
   ],
   "source": [
    "c6.get_notes()"
   ]
  },
  {
   "cell_type": "markdown",
   "metadata": {},
   "source": [
    "## Generating  MIDI Scales"
   ]
  },
  {
   "cell_type": "code",
   "execution_count": 13,
   "metadata": {
    "pycharm": {
     "name": "#%%\n"
    }
   },
   "outputs": [
    {
     "name": "stdout",
     "output_type": "stream",
     "text": [
      "saving C Major...\n",
      "saving C# Major...\n",
      "saving D Major...\n",
      "saving D# Major...\n",
      "saving E Major...\n",
      "saving F Major...\n",
      "saving F# Major...\n",
      "saving G Major...\n",
      "saving G# Major...\n",
      "saving A Major...\n",
      "saving A# Major...\n",
      "saving B Major...\n",
      "saving C Minor...\n",
      "saving C# Minor...\n",
      "saving D Minor...\n",
      "saving D# Minor...\n",
      "saving E Minor...\n",
      "saving F Minor...\n",
      "saving F# Minor...\n",
      "saving G Minor...\n",
      "saving G# Minor...\n",
      "saving A Minor...\n",
      "saving A# Minor...\n",
      "saving B Minor...\n",
      "saving C Melodic Minor...\n",
      "saving C# Melodic Minor...\n",
      "saving D Melodic Minor...\n",
      "saving D# Melodic Minor...\n",
      "saving E Melodic Minor...\n",
      "saving F Melodic Minor...\n",
      "saving F# Melodic Minor...\n",
      "saving G Melodic Minor...\n",
      "saving G# Melodic Minor...\n",
      "saving A Melodic Minor...\n",
      "saving A# Melodic Minor...\n",
      "saving B Melodic Minor...\n",
      "saving C Harmonic Minor...\n",
      "saving C# Harmonic Minor...\n",
      "saving D Harmonic Minor...\n",
      "saving D# Harmonic Minor...\n",
      "saving E Harmonic Minor...\n",
      "saving F Harmonic Minor...\n",
      "saving F# Harmonic Minor...\n",
      "saving G Harmonic Minor...\n",
      "saving G# Harmonic Minor...\n",
      "saving A Harmonic Minor...\n",
      "saving A# Harmonic Minor...\n",
      "saving B Harmonic Minor...\n",
      "saving C Chromatic...\n",
      "saving C# Chromatic...\n",
      "saving D Chromatic...\n",
      "saving D# Chromatic...\n",
      "saving E Chromatic...\n",
      "saving F Chromatic...\n",
      "saving F# Chromatic...\n",
      "saving G Chromatic...\n",
      "saving G# Chromatic...\n",
      "saving A Chromatic...\n",
      "saving A# Chromatic...\n",
      "saving B Chromatic...\n",
      "saving C Dorian...\n",
      "saving C# Dorian...\n",
      "saving D Dorian...\n",
      "saving D# Dorian...\n",
      "saving E Dorian...\n",
      "saving F Dorian...\n",
      "saving F# Dorian...\n",
      "saving G Dorian...\n",
      "saving G# Dorian...\n",
      "saving A Dorian...\n",
      "saving A# Dorian...\n",
      "saving B Dorian...\n",
      "saving C Hypoaeolian...\n",
      "saving C# Hypoaeolian...\n",
      "saving D Hypoaeolian...\n",
      "saving D# Hypoaeolian...\n",
      "saving E Hypoaeolian...\n",
      "saving F Hypoaeolian...\n",
      "saving F# Hypoaeolian...\n",
      "saving G Hypoaeolian...\n",
      "saving G# Hypoaeolian...\n",
      "saving A Hypoaeolian...\n",
      "saving A# Hypoaeolian...\n",
      "saving B Hypoaeolian...\n",
      "saving C Hypodorian...\n",
      "saving C# Hypodorian...\n",
      "saving D Hypodorian...\n",
      "saving D# Hypodorian...\n",
      "saving E Hypodorian...\n",
      "saving F Hypodorian...\n",
      "saving F# Hypodorian...\n",
      "saving G Hypodorian...\n",
      "saving G# Hypodorian...\n",
      "saving A Hypodorian...\n",
      "saving A# Hypodorian...\n",
      "saving B Hypodorian...\n",
      "saving C Hypophrygian...\n",
      "saving C# Hypophrygian...\n",
      "saving D Hypophrygian...\n",
      "saving D# Hypophrygian...\n",
      "saving E Hypophrygian...\n",
      "saving F Hypophrygian...\n",
      "saving F# Hypophrygian...\n",
      "saving G Hypophrygian...\n",
      "saving G# Hypophrygian...\n",
      "saving A Hypophrygian...\n",
      "saving A# Hypophrygian...\n",
      "saving B Hypophrygian...\n",
      "saving C Hypolydian...\n",
      "saving C# Hypolydian...\n",
      "saving D Hypolydian...\n",
      "saving D# Hypolydian...\n",
      "saving E Hypolydian...\n",
      "saving F Hypolydian...\n",
      "saving F# Hypolydian...\n",
      "saving G Hypolydian...\n",
      "saving G# Hypolydian...\n",
      "saving A Hypolydian...\n",
      "saving A# Hypolydian...\n",
      "saving B Hypolydian...\n",
      "saving C Hypomixolydian...\n",
      "saving C# Hypomixolydian...\n",
      "saving D Hypomixolydian...\n",
      "saving D# Hypomixolydian...\n",
      "saving E Hypomixolydian...\n",
      "saving F Hypomixolydian...\n",
      "saving F# Hypomixolydian...\n",
      "saving G Hypomixolydian...\n",
      "saving G# Hypomixolydian...\n",
      "saving A Hypomixolydian...\n",
      "saving A# Hypomixolydian...\n",
      "saving B Hypomixolydian...\n",
      "saving C Hypolocrian...\n",
      "saving C# Hypolocrian...\n",
      "saving D Hypolocrian...\n",
      "saving D# Hypolocrian...\n",
      "saving E Hypolocrian...\n",
      "saving F Hypolocrian...\n",
      "saving F# Hypolocrian...\n",
      "saving G Hypolocrian...\n",
      "saving G# Hypolocrian...\n",
      "saving A Hypolocrian...\n",
      "saving A# Hypolocrian...\n",
      "saving B Hypolocrian...\n",
      "saving C Lydian...\n",
      "saving C# Lydian...\n",
      "saving D Lydian...\n",
      "saving D# Lydian...\n",
      "saving E Lydian...\n",
      "saving F Lydian...\n",
      "saving F# Lydian...\n",
      "saving G Lydian...\n",
      "saving G# Lydian...\n",
      "saving A Lydian...\n",
      "saving A# Lydian...\n",
      "saving B Lydian...\n",
      "saving C Locrian...\n",
      "saving C# Locrian...\n",
      "saving D Locrian...\n",
      "saving D# Locrian...\n",
      "saving E Locrian...\n",
      "saving F Locrian...\n",
      "saving F# Locrian...\n",
      "saving G Locrian...\n",
      "saving G# Locrian...\n",
      "saving A Locrian...\n",
      "saving A# Locrian...\n",
      "saving B Locrian...\n",
      "saving C Mixolydian...\n",
      "saving C# Mixolydian...\n",
      "saving D Mixolydian...\n",
      "saving D# Mixolydian...\n",
      "saving E Mixolydian...\n",
      "saving F Mixolydian...\n",
      "saving F# Mixolydian...\n",
      "saving G Mixolydian...\n",
      "saving G# Mixolydian...\n",
      "saving A Mixolydian...\n",
      "saving A# Mixolydian...\n",
      "saving B Mixolydian...\n",
      "saving C Octatonic...\n",
      "saving C# Octatonic...\n",
      "saving D Octatonic...\n",
      "saving D# Octatonic...\n",
      "saving E Octatonic...\n",
      "saving F Octatonic...\n",
      "saving F# Octatonic...\n",
      "saving G Octatonic...\n",
      "saving G# Octatonic...\n",
      "saving A Octatonic...\n",
      "saving A# Octatonic...\n",
      "saving B Octatonic...\n",
      "saving C Phrygian...\n",
      "saving C# Phrygian...\n",
      "saving D Phrygian...\n",
      "saving D# Phrygian...\n",
      "saving E Phrygian...\n",
      "saving F Phrygian...\n",
      "saving F# Phrygian...\n",
      "saving G Phrygian...\n",
      "saving G# Phrygian...\n",
      "saving A Phrygian...\n",
      "saving A# Phrygian...\n",
      "saving B Phrygian...\n",
      "saving C RagAsawari...\n",
      "saving C# RagAsawari...\n",
      "saving D RagAsawari...\n",
      "saving D# RagAsawari...\n",
      "saving E RagAsawari...\n",
      "saving F RagAsawari...\n",
      "saving F# RagAsawari...\n",
      "saving G RagAsawari...\n",
      "saving G# RagAsawari...\n",
      "saving A RagAsawari...\n",
      "saving A# RagAsawari...\n",
      "saving B RagAsawari...\n",
      "saving C RagMarwa...\n",
      "saving C# RagMarwa...\n",
      "saving D RagMarwa...\n",
      "saving D# RagMarwa...\n",
      "saving E RagMarwa...\n",
      "saving F RagMarwa...\n",
      "saving F# RagMarwa...\n",
      "saving G RagMarwa...\n",
      "saving G# RagMarwa...\n",
      "saving A RagMarwa...\n",
      "saving A# RagMarwa...\n",
      "saving B RagMarwa...\n",
      "saving C Weighted Hexatonic Blues...\n",
      "saving C# Weighted Hexatonic Blues...\n",
      "saving D Weighted Hexatonic Blues...\n",
      "saving D# Weighted Hexatonic Blues...\n",
      "saving E Weighted Hexatonic Blues...\n",
      "saving F Weighted Hexatonic Blues...\n",
      "saving F# Weighted Hexatonic Blues...\n",
      "saving G Weighted Hexatonic Blues...\n",
      "saving G# Weighted Hexatonic Blues...\n",
      "saving A Weighted Hexatonic Blues...\n",
      "saving A# Weighted Hexatonic Blues...\n",
      "saving B Weighted Hexatonic Blues...\n",
      "saving C Whole Tone...\n",
      "saving C# Whole Tone...\n",
      "saving D Whole Tone...\n",
      "saving D# Whole Tone...\n",
      "saving E Whole Tone...\n",
      "saving F Whole Tone...\n",
      "saving F# Whole Tone...\n",
      "saving G Whole Tone...\n",
      "saving G# Whole Tone...\n",
      "saving A Whole Tone...\n",
      "saving A# Whole Tone...\n",
      "saving B Whole Tone...\n"
     ]
    }
   ],
   "source": [
    "for scl_name in scale.m21_scales:\n",
    "    for n in notes:\n",
    "        print(f\"saving {n} {scl_name}...\")\n",
    "        scl = Scale(tonic=n, mode=scl_name)\n",
    "        scl.stream.write('midi', f'{n}_{scl_name}.mid')"
   ]
  },
  {
   "cell_type": "code",
   "execution_count": 14,
   "metadata": {},
   "outputs": [
    {
     "name": "stdout",
     "output_type": "stream",
     "text": [
      " \u001B[0m\u001B[00;36mA#_Chromatic.mid\u001B[0m                   \u001B[00;36mD#_Lydian.mid\u001B[0m\n",
      " \u001B[00;36mA_Chromatic.mid\u001B[0m                    \u001B[00;36mD_Lydian.mid\u001B[0m\n",
      " \u001B[00;36mA#_Dorian.mid\u001B[0m                      \u001B[00;36mD#_Major.mid\u001B[0m\n",
      " \u001B[00;36mA_Dorian.mid\u001B[0m                       \u001B[00;36mD_Major.mid\u001B[0m\n",
      "\u001B[00;36m'A#_Harmonic Minor.mid'\u001B[0m            \u001B[00;36m'D#_Melodic Minor.mid'\u001B[0m\n",
      "\u001B[00;36m'A_Harmonic Minor.mid'\u001B[0m             \u001B[00;36m'D_Melodic Minor.mid'\u001B[0m\n",
      " \u001B[00;36mA#_Hypoaeolian.mid\u001B[0m                 \u001B[00;36mD#_Minor.mid\u001B[0m\n",
      " \u001B[00;36mA_Hypoaeolian.mid\u001B[0m                  \u001B[00;36mD_Minor.mid\u001B[0m\n",
      " \u001B[00;36mA#_Hypodorian.mid\u001B[0m                  \u001B[00;36mD#_Mixolydian.mid\u001B[0m\n",
      " \u001B[00;36mA_Hypodorian.mid\u001B[0m                   \u001B[00;36mD_Mixolydian.mid\u001B[0m\n",
      " \u001B[00;36mA#_Hypolocrian.mid\u001B[0m                 \u001B[00;36mD#_Octatonic.mid\u001B[0m\n",
      " \u001B[00;36mA_Hypolocrian.mid\u001B[0m                  \u001B[00;36mD_Octatonic.mid\u001B[0m\n",
      " \u001B[00;36mA#_Hypolydian.mid\u001B[0m                  \u001B[00;36mD#_Phrygian.mid\u001B[0m\n",
      " \u001B[00;36mA_Hypolydian.mid\u001B[0m                   \u001B[00;36mD_Phrygian.mid\u001B[0m\n",
      " \u001B[00;36mA#_Hypomixolydian.mid\u001B[0m              \u001B[00;36mD#_RagAsawari.mid\u001B[0m\n",
      " \u001B[00;36mA_Hypomixolydian.mid\u001B[0m               \u001B[00;36mD_RagAsawari.mid\u001B[0m\n",
      " \u001B[00;36mA#_Hypophrygian.mid\u001B[0m                \u001B[00;36mD#_RagMarwa.mid\u001B[0m\n",
      " \u001B[00;36mA_Hypophrygian.mid\u001B[0m                 \u001B[00;36mD_RagMarwa.mid\u001B[0m\n",
      " \u001B[00;36mA#_Locrian.mid\u001B[0m                    \u001B[00;36m'D#_Weighted Hexatonic Blues.mid'\u001B[0m\n",
      " \u001B[00;36mA_Locrian.mid\u001B[0m                     \u001B[00;36m'D_Weighted Hexatonic Blues.mid'\u001B[0m\n",
      " \u001B[00;36mA#_Lydian.mid\u001B[0m                     \u001B[00;36m'D#_Whole Tone.mid'\u001B[0m\n",
      " \u001B[00;36mA_Lydian.mid\u001B[0m                      \u001B[00;36m'D_Whole Tone.mid'\u001B[0m\n",
      " \u001B[00;36mA#_Major.mid\u001B[0m                       \u001B[00;36mE_Chromatic.mid\u001B[0m\n",
      " \u001B[00;36mA_Major.mid\u001B[0m                        \u001B[00;36mE_Dorian.mid\u001B[0m\n",
      "\u001B[00;36m'A#_Melodic Minor.mid'\u001B[0m             \u001B[00;36m'E_Harmonic Minor.mid'\u001B[0m\n",
      "\u001B[00;36m'A_Melodic Minor.mid'\u001B[0m               \u001B[00;36mE_Hypoaeolian.mid\u001B[0m\n",
      " \u001B[00;36mA-minor.mid\u001B[0m                        \u001B[00;36mE_Hypodorian.mid\u001B[0m\n",
      " \u001B[00;36mA#_Minor.mid\u001B[0m                       \u001B[00;36mE_Hypolocrian.mid\u001B[0m\n",
      " \u001B[00;36mA_Minor.mid\u001B[0m                        \u001B[00;36mE_Hypolydian.mid\u001B[0m\n",
      " \u001B[00;36mA#_Mixolydian.mid\u001B[0m                  \u001B[00;36mE_Hypomixolydian.mid\u001B[0m\n",
      " \u001B[00;36mA_Mixolydian.mid\u001B[0m                   \u001B[00;36mE_Hypophrygian.mid\u001B[0m\n",
      " \u001B[00;36mA#_Octatonic.mid\u001B[0m                   \u001B[00;36mE_Locrian.mid\u001B[0m\n",
      " \u001B[00;36mA_Octatonic.mid\u001B[0m                    \u001B[00;36mE_Lydian.mid\u001B[0m\n",
      " \u001B[00;36mA#_Phrygian.mid\u001B[0m                    \u001B[00;36mE_Major.mid\u001B[0m\n",
      " \u001B[00;36mA_Phrygian.mid\u001B[0m                    \u001B[00;36m'E_Melodic Minor.mid'\u001B[0m\n",
      " \u001B[00;36mA#_RagAsawari.mid\u001B[0m                  \u001B[00;36mE_Minor.mid\u001B[0m\n",
      " \u001B[00;36mA_RagAsawari.mid\u001B[0m                   \u001B[00;36mE_Mixolydian.mid\u001B[0m\n",
      " \u001B[00;36mA#_RagMarwa.mid\u001B[0m                    \u001B[00;36mE_Octatonic.mid\u001B[0m\n",
      " \u001B[00;36mA_RagMarwa.mid\u001B[0m                     \u001B[00;36mE_Phrygian.mid\u001B[0m\n",
      "\u001B[00;36m'A#_Weighted Hexatonic Blues.mid'\u001B[0m   \u001B[00;36mE_RagAsawari.mid\u001B[0m\n",
      "\u001B[00;36m'A_Weighted Hexatonic Blues.mid'\u001B[0m    \u001B[00;36mE_RagMarwa.mid\u001B[0m\n",
      "\u001B[00;36m'A#_Whole Tone.mid'\u001B[0m                \u001B[00;36m'E_Weighted Hexatonic Blues.mid'\u001B[0m\n",
      "\u001B[00;36m'A_Whole Tone.mid'\u001B[0m                 \u001B[00;36m'E_Whole Tone.mid'\u001B[0m\n",
      " \u001B[00;36mB_Chromatic.mid\u001B[0m                    \u001B[00;36mF#_Chromatic.mid\u001B[0m\n",
      " \u001B[00;36mB_Dorian.mid\u001B[0m                       \u001B[00;36mF_Chromatic.mid\u001B[0m\n",
      "\u001B[00;36m'B_Harmonic Minor.mid'\u001B[0m              \u001B[00;36mF#_Dorian.mid\u001B[0m\n",
      " \u001B[00;36mB_Hypoaeolian.mid\u001B[0m                  \u001B[00;36mF_Dorian.mid\u001B[0m\n",
      " \u001B[00;36mB_Hypodorian.mid\u001B[0m                  \u001B[00;36m'F#_Harmonic Minor.mid'\u001B[0m\n",
      " \u001B[00;36mB_Hypolocrian.mid\u001B[0m                 \u001B[00;36m'F_Harmonic Minor.mid'\u001B[0m\n",
      " \u001B[00;36mB_Hypolydian.mid\u001B[0m                   \u001B[00;36mF#_Hypoaeolian.mid\u001B[0m\n",
      " \u001B[00;36mB_Hypomixolydian.mid\u001B[0m               \u001B[00;36mF_Hypoaeolian.mid\u001B[0m\n",
      " \u001B[00;36mB_Hypophrygian.mid\u001B[0m                 \u001B[00;36mF#_Hypodorian.mid\u001B[0m\n",
      " \u001B[00;36mB_Locrian.mid\u001B[0m                      \u001B[00;36mF_Hypodorian.mid\u001B[0m\n",
      " \u001B[00;36mB_Lydian.mid\u001B[0m                       \u001B[00;36mF#_Hypolocrian.mid\u001B[0m\n",
      " \u001B[00;36mB_Major.mid\u001B[0m                        \u001B[00;36mF_Hypolocrian.mid\u001B[0m\n",
      "\u001B[00;36m'B_Melodic Minor.mid'\u001B[0m               \u001B[00;36mF#_Hypolydian.mid\u001B[0m\n",
      " \u001B[00;36mB_Minor.mid\u001B[0m                        \u001B[00;36mF_Hypolydian.mid\u001B[0m\n",
      " \u001B[00;36mB_Mixolydian.mid\u001B[0m                   \u001B[00;36mF#_Hypomixolydian.mid\u001B[0m\n",
      " \u001B[00;36mB_Octatonic.mid\u001B[0m                    \u001B[00;36mF_Hypomixolydian.mid\u001B[0m\n",
      " \u001B[00;36mB_Phrygian.mid\u001B[0m                     \u001B[00;36mF#_Hypophrygian.mid\u001B[0m\n",
      " \u001B[00;36mB_RagAsawari.mid\u001B[0m                   \u001B[00;36mF_Hypophrygian.mid\u001B[0m\n",
      " \u001B[00;36mB_RagMarwa.mid\u001B[0m                     \u001B[00;36mF#_Locrian.mid\u001B[0m\n",
      "\u001B[00;36m'B_Weighted Hexatonic Blues.mid'\u001B[0m    \u001B[00;36mF_Locrian.mid\u001B[0m\n",
      "\u001B[00;36m'B_Whole Tone.mid'\u001B[0m                  \u001B[00;36mF#_Lydian.mid\u001B[0m\n",
      " \u001B[00;36mC#_Chromatic.mid\u001B[0m                   \u001B[00;36mF_Lydian.mid\u001B[0m\n",
      " \u001B[00;36mC_Chromatic.mid\u001B[0m                    \u001B[00;36mF#_Major.mid\u001B[0m\n",
      " \u001B[00;36mC#_Dorian.mid\u001B[0m                      \u001B[00;36mF_Major.mid\u001B[0m\n",
      " \u001B[00;36mC_Dorian.mid\u001B[0m                      \u001B[00;36m'F#_Melodic Minor.mid'\u001B[0m\n",
      "\u001B[00;36m'C#_Harmonic Minor.mid'\u001B[0m            \u001B[00;36m'F_Melodic Minor.mid'\u001B[0m\n",
      "\u001B[00;36m'C_Harmonic Minor.mid'\u001B[0m              \u001B[00;36mF#_Minor.mid\u001B[0m\n",
      " \u001B[00;36mchromatic.mid\u001B[0m                      \u001B[00;36mF_Minor.mid\u001B[0m\n",
      " \u001B[00;36mC#_Hypoaeolian.mid\u001B[0m                 \u001B[00;36mF#_Mixolydian.mid\u001B[0m\n",
      " \u001B[00;36mC_Hypoaeolian.mid\u001B[0m                  \u001B[00;36mF_Mixolydian.mid\u001B[0m\n",
      " \u001B[00;36mC#_Hypodorian.mid\u001B[0m                  \u001B[00;36mF#_Octatonic.mid\u001B[0m\n",
      " \u001B[00;36mC_Hypodorian.mid\u001B[0m                   \u001B[00;36mF_Octatonic.mid\u001B[0m\n",
      " \u001B[00;36mC#_Hypolocrian.mid\u001B[0m                 \u001B[00;36mF#_Phrygian.mid\u001B[0m\n",
      " \u001B[00;36mC_Hypolocrian.mid\u001B[0m                  \u001B[00;36mF_Phrygian.mid\u001B[0m\n",
      " \u001B[00;36mC#_Hypolydian.mid\u001B[0m                  \u001B[00;36mF#_RagAsawari.mid\u001B[0m\n",
      " \u001B[00;36mC_Hypolydian.mid\u001B[0m                   \u001B[00;36mF_RagAsawari.mid\u001B[0m\n",
      " \u001B[00;36mC#_Hypomixolydian.mid\u001B[0m              \u001B[00;36mF#_RagMarwa.mid\u001B[0m\n",
      " \u001B[00;36mC_Hypomixolydian.mid\u001B[0m               \u001B[00;36mF_RagMarwa.mid\u001B[0m\n",
      " \u001B[00;36mC#_Hypophrygian.mid\u001B[0m               \u001B[00;36m'F#_Weighted Hexatonic Blues.mid'\u001B[0m\n",
      " \u001B[00;36mC_Hypophrygian.mid\u001B[0m                \u001B[00;36m'F_Weighted Hexatonic Blues.mid'\u001B[0m\n",
      " \u001B[00;36mC#_Locrian.mid\u001B[0m                    \u001B[00;36m'F#_Whole Tone.mid'\u001B[0m\n",
      " \u001B[00;36mC_Locrian.mid\u001B[0m                     \u001B[00;36m'F_Whole Tone.mid'\u001B[0m\n",
      " \u001B[00;36mC#_Lydian.mid\u001B[0m                      \u001B[00;36mG#_Chromatic.mid\u001B[0m\n",
      " \u001B[00;36mC_Lydian.mid\u001B[0m                       \u001B[00;36mG_Chromatic.mid\u001B[0m\n",
      " \u001B[00;36mC-major.mid\u001B[0m                        \u001B[00;36mG#_Dorian.mid\u001B[0m\n",
      " \u001B[00;36mC#_Major.mid\u001B[0m                       \u001B[00;36mG_Dorian.mid\u001B[0m\n",
      " \u001B[00;36mC_Major.mid\u001B[0m                       \u001B[00;36m'G#_Harmonic Minor.mid'\u001B[0m\n",
      "\u001B[00;36m'C#_Melodic Minor.mid'\u001B[0m             \u001B[00;36m'G_Harmonic Minor.mid'\u001B[0m\n",
      "\u001B[00;36m'C_Melodic Minor.mid'\u001B[0m               \u001B[00;36mG#_Hypoaeolian.mid\u001B[0m\n",
      " \u001B[00;36mC#_Minor.mid\u001B[0m                       \u001B[00;36mG_Hypoaeolian.mid\u001B[0m\n",
      " \u001B[00;36mC_Minor.mid\u001B[0m                        \u001B[00;36mG#_Hypodorian.mid\u001B[0m\n",
      " \u001B[00;36mC#_Mixolydian.mid\u001B[0m                  \u001B[00;36mG_Hypodorian.mid\u001B[0m\n",
      " \u001B[00;36mC_Mixolydian.mid\u001B[0m                   \u001B[00;36mG#_Hypolocrian.mid\u001B[0m\n",
      " \u001B[00;36mC#_Octatonic.mid\u001B[0m                   \u001B[00;36mG_Hypolocrian.mid\u001B[0m\n",
      " \u001B[00;36mC_Octatonic.mid\u001B[0m                    \u001B[00;36mG#_Hypolydian.mid\u001B[0m\n",
      " \u001B[00;36mC#_Phrygian.mid\u001B[0m                    \u001B[00;36mG_Hypolydian.mid\u001B[0m\n",
      " \u001B[00;36mC_Phrygian.mid\u001B[0m                     \u001B[00;36mG#_Hypomixolydian.mid\u001B[0m\n",
      " \u001B[00;36mC#_RagAsawari.mid\u001B[0m                  \u001B[00;36mG_Hypomixolydian.mid\u001B[0m\n",
      " \u001B[00;36mC_RagAsawari.mid\u001B[0m                   \u001B[00;36mG#_Hypophrygian.mid\u001B[0m\n",
      " \u001B[00;36mC#_RagMarwa.mid\u001B[0m                    \u001B[00;36mG_Hypophrygian.mid\u001B[0m\n",
      " \u001B[00;36mC_RagMarwa.mid\u001B[0m                     \u001B[00;36mG#_Locrian.mid\u001B[0m\n",
      "\u001B[00;36m'C#_Weighted Hexatonic Blues.mid'\u001B[0m   \u001B[00;36mG_Locrian.mid\u001B[0m\n",
      "\u001B[00;36m'C_Weighted Hexatonic Blues.mid'\u001B[0m    \u001B[00;36mG#_Lydian.mid\u001B[0m\n",
      "\u001B[00;36m'C#_Whole Tone.mid'\u001B[0m                 \u001B[00;36mG_Lydian.mid\u001B[0m\n",
      "\u001B[00;36m'C_Whole Tone.mid'\u001B[0m                  \u001B[00;36mG#_Major.mid\u001B[0m\n",
      " \u001B[00;36mD#_Chromatic.mid\u001B[0m                   \u001B[00;36mG_Major.mid\u001B[0m\n",
      " \u001B[00;36mD_Chromatic.mid\u001B[0m                   \u001B[00;36m'G#_Melodic Minor.mid'\u001B[0m\n",
      " \u001B[00;36mD#_Dorian.mid\u001B[0m                     \u001B[00;36m'G_Melodic Minor.mid'\u001B[0m\n",
      " \u001B[00;36mD_Dorian.mid\u001B[0m                       \u001B[00;36mG#_Minor.mid\u001B[0m\n",
      "\u001B[00;36m'D#_Harmonic Minor.mid'\u001B[0m             \u001B[00;36mG_Minor.mid\u001B[0m\n",
      "\u001B[00;36m'D_Harmonic Minor.mid'\u001B[0m              \u001B[00;36mG#_Mixolydian.mid\u001B[0m\n",
      " \u001B[00;36mD#_Hypoaeolian.mid\u001B[0m                 \u001B[00;36mG_Mixolydian.mid\u001B[0m\n",
      " \u001B[00;36mD_Hypoaeolian.mid\u001B[0m                  \u001B[00;36mG#_Octatonic.mid\u001B[0m\n",
      " \u001B[00;36mD#_Hypodorian.mid\u001B[0m                  \u001B[00;36mG_Octatonic.mid\u001B[0m\n",
      " \u001B[00;36mD_Hypodorian.mid\u001B[0m                   \u001B[00;36mG#_Phrygian.mid\u001B[0m\n",
      " \u001B[00;36mD#_Hypolocrian.mid\u001B[0m                 \u001B[00;36mG_Phrygian.mid\u001B[0m\n",
      " \u001B[00;36mD_Hypolocrian.mid\u001B[0m                  \u001B[00;36mG#_RagAsawari.mid\u001B[0m\n",
      " \u001B[00;36mD#_Hypolydian.mid\u001B[0m                  \u001B[00;36mG_RagAsawari.mid\u001B[0m\n",
      " \u001B[00;36mD_Hypolydian.mid\u001B[0m                   \u001B[00;36mG#_RagMarwa.mid\u001B[0m\n",
      " \u001B[00;36mD#_Hypomixolydian.mid\u001B[0m              \u001B[00;36mG_RagMarwa.mid\u001B[0m\n",
      " \u001B[00;36mD_Hypomixolydian.mid\u001B[0m              \u001B[00;36m'G#_Weighted Hexatonic Blues.mid'\u001B[0m\n",
      " \u001B[00;36mD#_Hypophrygian.mid\u001B[0m               \u001B[00;36m'G_Weighted Hexatonic Blues.mid'\u001B[0m\n",
      " \u001B[00;36mD_Hypophrygian.mid\u001B[0m                \u001B[00;36m'G#_Whole Tone.mid'\u001B[0m\n",
      " \u001B[00;36mD#_Locrian.mid\u001B[0m                    \u001B[00;36m'G_Whole Tone.mid'\u001B[0m\n",
      " \u001B[00;36mD_Locrian.mid\u001B[0m\n"
     ]
    }
   ],
   "source": [
    "!ls *.mid"
   ]
  },
  {
   "cell_type": "markdown",
   "metadata": {},
   "source": [
    "### Listing the Accidents of a Scale"
   ]
  },
  {
   "cell_type": "code",
   "execution_count": 33,
   "metadata": {},
   "outputs": [
    {
     "data": {
      "text/plain": [
       "<music21.scale.ConcreteScale F Concrete>"
      ]
     },
     "execution_count": 33,
     "metadata": {},
     "output_type": "execute_result"
    }
   ],
   "source": [
    "fsm = Scale('F', acc='',mode='Major')\n",
    "fsm = fsm.as_scale()\n",
    "fsm"
   ]
  },
  {
   "cell_type": "code",
   "execution_count": 34,
   "metadata": {},
   "outputs": [
    {
     "name": "stdout",
     "output_type": "stream",
     "text": [
      "1: F4\n",
      "2: G4\n",
      "3: A4\n",
      "4: B-4\n",
      "5: C5\n",
      "6: D5\n",
      "7: E5\n",
      "7: F4\n"
     ]
    }
   ],
   "source": [
    "for i in range(1,9):\n",
    "    d = fsm.romanNumeral(i)\n",
    "    print(f\"{d.scaleDegree}: {fsm.pitchFromDegree(i)}\")"
   ]
  },
  {
   "cell_type": "code",
   "execution_count": 28,
   "metadata": {},
   "outputs": [
    {
     "data": {
      "text/plain": [
       "7"
      ]
     },
     "execution_count": 28,
     "metadata": {},
     "output_type": "execute_result"
    }
   ],
   "source": [
    "d.scaleDegree"
   ]
  },
  {
   "cell_type": "code",
   "execution_count": null,
   "metadata": {},
   "outputs": [],
   "source": []
  }
 ],
 "metadata": {
  "hide_input": false,
  "kernelspec": {
   "display_name": "Python 3 (ipykernel)",
   "language": "python",
   "name": "python3"
  },
  "language_info": {
   "codemirror_mode": {
    "name": "ipython",
    "version": 3
   },
   "file_extension": ".py",
   "mimetype": "text/x-python",
   "name": "python",
   "nbconvert_exporter": "python",
   "pygments_lexer": "ipython3",
   "version": "3.10.4"
  },
  "latex_envs": {
   "LaTeX_envs_menu_present": true,
   "autoclose": false,
   "autocomplete": true,
   "bibliofile": "biblio.bib",
   "cite_by": "apalike",
   "current_citInitial": 1,
   "eqLabelWithNumbers": true,
   "eqNumInitial": 1,
   "hotkeys": {
    "equation": "Ctrl-E",
    "itemize": "Ctrl-I"
   },
   "labels_anchors": false,
   "latex_user_defs": false,
   "report_style_numbering": false,
   "user_envs_cfg": false
  },
  "nbTranslate": {
   "displayLangs": [
    "*"
   ],
   "hotkey": "alt-t",
   "langInMainMenu": true,
   "sourceLang": "en",
   "targetLang": "fr",
   "useGoogleTranslate": true
  },
  "toc": {
   "base_numbering": 1,
   "nav_menu": {},
   "number_sections": true,
   "sideBar": true,
   "skip_h1_title": false,
   "title_cell": "Table of Contents",
   "title_sidebar": "Contents",
   "toc_cell": false,
   "toc_position": {},
   "toc_section_display": true,
   "toc_window_display": false
  },
  "varInspector": {
   "cols": {
    "lenName": 16,
    "lenType": 16,
    "lenVar": 40
   },
   "kernels_config": {
    "python": {
     "delete_cmd_postfix": "",
     "delete_cmd_prefix": "del ",
     "library": "var_list.py",
     "varRefreshCmd": "print(var_dic_list())"
    },
    "r": {
     "delete_cmd_postfix": ") ",
     "delete_cmd_prefix": "rm(",
     "library": "var_list.r",
     "varRefreshCmd": "cat(var_dic_list()) "
    }
   },
   "types_to_exclude": [
    "module",
    "function",
    "builtin_function_or_method",
    "instance",
    "_Feature"
   ],
   "window_display": false
  }
 },
 "nbformat": 4,
 "nbformat_minor": 4
}
